{
  "nbformat": 4,
  "nbformat_minor": 0,
  "metadata": {
    "colab": {
      "name": "Linked Data",
      "provenance": [],
      "collapsed_sections": []
    },
    "kernelspec": {
      "name": "python3",
      "display_name": "Python 3"
    }
  },
  "cells": [
    {
      "cell_type": "markdown",
      "metadata": {
        "id": "pIOrhHVm9_t5"
      },
      "source": [
        "# JUDUL Linked Data\n",
        "## Kontributor: Rochim Farul Noviyan, Reyhan Venyutzky, Hasna Zakiyyah Harsari, Nur Aini Rakhmawati\n",
        "## email kontributor: rochim.noviyan@gmail.com, venyutzky08@gmail.com,hasnazakiyyah16@gmail.com\n",
        "## Departemen Sistem Informasi, Institut Teknologi Sepuluh Nopember\n",
        "Abstrak:\n",
        "\n",
        "*Linked data merupakan metode pembangunan data terstruktur sehingga dapat saling terkait pada web. Linked data dibangun oleh teknologi web standar seperti salah satunya model data RDF untuk menghubungkan data dari berbagai sumber dan memiliki fungsi seperti hyperlink yang menghubungkan sekumpulan halaman web di internet. Dengan sekumpulan data yang terhubung dapat membentuk global data space atau dikenal dengan web of data. Pada kesempatan kali ini kami akan membuat model data RDF dengan bersumber pada dataset e-commerce [jakmall](jakmall.com/). Model data RDF terlebih dahulu dibuat dengan menggunakan vocabulary biasa sebagai contoh untuk berpikir secara logika lalu dilanjutkan dengan mengubah vocabulary menjadi vocabulary yang populer seperti foaf dan schema.*"
      ]
    },
    {
      "cell_type": "markdown",
      "metadata": {
        "id": "jP3LhyBD_8J_"
      },
      "source": [
        "## Dataset\n",
        "\n",
        "Dataset ini berisikan tentang data produk yang dijual pada salah satu online marketplace di Indonesia yaitu jakmall.com. Variabel dalam dataset ini mencakup nama produk, nama penjual, lokasi penjual, link url produk, harga produk, dan jumlah wishlist produk.\n",
        "\n",
        "Tabel dataset"
      ]
    },
    {
      "cell_type": "code",
      "metadata": {
        "id": "Jl62dognmwEr",
        "colab": {
          "base_uri": "https://localhost:8080/",
          "height": 203
        },
        "outputId": "f73efb13-b978-4f53-f407-2118753c0290"
      },
      "source": [
        "import pandas as pd\n",
        "\n",
        "df = pd.read_csv('https://gist.githubusercontent.com/rochimfn/d43d8f372126dfbade9b41c1e8490e7c/raw/ed69463ca6312daf020d4709ae3cc33ae2059dea/dataset.csv')\n",
        "df.head()"
      ],
      "execution_count": 56,
      "outputs": [
        {
          "output_type": "execute_result",
          "data": {
            "text/html": [
              "<div>\n",
              "<style scoped>\n",
              "    .dataframe tbody tr th:only-of-type {\n",
              "        vertical-align: middle;\n",
              "    }\n",
              "\n",
              "    .dataframe tbody tr th {\n",
              "        vertical-align: top;\n",
              "    }\n",
              "\n",
              "    .dataframe thead th {\n",
              "        text-align: right;\n",
              "    }\n",
              "</style>\n",
              "<table border=\"1\" class=\"dataframe\">\n",
              "  <thead>\n",
              "    <tr style=\"text-align: right;\">\n",
              "      <th></th>\n",
              "      <th>Seller_name</th>\n",
              "      <th>Seller_Location</th>\n",
              "      <th>Seller_Product</th>\n",
              "      <th>Seller_Product_url</th>\n",
              "      <th>Seller_price</th>\n",
              "      <th>Seller_product_wishlist</th>\n",
              "    </tr>\n",
              "  </thead>\n",
              "  <tbody>\n",
              "    <tr>\n",
              "      <th>0</th>\n",
              "      <td>GudangGrosir</td>\n",
              "      <td>DKI Jakarta</td>\n",
              "      <td>TaffSTUDIO Splitter Audio Shape U 3.5mm ke Hea...</td>\n",
              "      <td>https://www.jakmall.com/gudanggrosir/taffstudi...</td>\n",
              "      <td>Rp 6.800</td>\n",
              "      <td>839</td>\n",
              "    </tr>\n",
              "    <tr>\n",
              "      <th>1</th>\n",
              "      <td>SoundSquare</td>\n",
              "      <td>DKI Jakarta</td>\n",
              "      <td>TaffSTUDIO Mikrofon Kondenser Studio dengan Sh...</td>\n",
              "      <td>https://www.jakmall.com/soundsquare/taffstudio...</td>\n",
              "      <td>Rp 83.200</td>\n",
              "      <td>1471</td>\n",
              "    </tr>\n",
              "    <tr>\n",
              "      <th>2</th>\n",
              "      <td>Kelvin Online Shop</td>\n",
              "      <td>DKI Jakarta</td>\n",
              "      <td>Taffware Gaming Mouse Pad XL Desk Mat Motif Pe...</td>\n",
              "      <td>https://www.jakmall.com/kelvin-online-shop/taf...</td>\n",
              "      <td>Rp 22.500</td>\n",
              "      <td>2132</td>\n",
              "    </tr>\n",
              "    <tr>\n",
              "      <th>3</th>\n",
              "      <td>Fast n Cheap</td>\n",
              "      <td>DKI Jakarta</td>\n",
              "      <td>Taffware ICE FAN 3 Universal Laptop Vacuum Cooler</td>\n",
              "      <td>https://www.jakmall.com/fast-n-cheap/taffware-...</td>\n",
              "      <td>Rp 54.600</td>\n",
              "      <td>654</td>\n",
              "    </tr>\n",
              "    <tr>\n",
              "      <th>4</th>\n",
              "      <td>Fast n Cheap</td>\n",
              "      <td>DKI Jakarta</td>\n",
              "      <td>Splitter Audio Cable 3.5mm Male to 3.5mm HiFi ...</td>\n",
              "      <td>https://www.jakmall.com/fast-n-cheap/splitter-...</td>\n",
              "      <td>Rp 5.400</td>\n",
              "      <td>331</td>\n",
              "    </tr>\n",
              "  </tbody>\n",
              "</table>\n",
              "</div>"
            ],
            "text/plain": [
              "          Seller_name Seller_Location  ... Seller_price Seller_product_wishlist\n",
              "0        GudangGrosir     DKI Jakarta  ...     Rp 6.800                     839\n",
              "1         SoundSquare     DKI Jakarta  ...    Rp 83.200                    1471\n",
              "2  Kelvin Online Shop     DKI Jakarta  ...    Rp 22.500                    2132\n",
              "3        Fast n Cheap     DKI Jakarta  ...    Rp 54.600                     654\n",
              "4        Fast n Cheap     DKI Jakarta  ...     Rp 5.400                     331\n",
              "\n",
              "[5 rows x 6 columns]"
            ]
          },
          "metadata": {},
          "execution_count": 56
        }
      ]
    },
    {
      "cell_type": "markdown",
      "metadata": {
        "id": "HmsRVEOZAhTg"
      },
      "source": [
        "## Vocabulary\n",
        "\n",
        "### Namespace\n",
        "\n",
        "* rdfs: <http://www.w3.org/2000/01/rdf-schema#>\n",
        "* rdf: <http://www.w3.org/1999/02/22-rdf-syntax-ns#>\n",
        "* xsd: <http://www.w3.org/2001/XMLSchema#>\n",
        "* ex: <http://example.com/>\n",
        "\n",
        "### Kelas\n",
        "* ex:Toko; Merupakan kelas untuk toko atau penjual yang memiliki lapak jualan.\n",
        "  * Toko bertempat di Lokasi; Setiap toko harus memiliki lokasi.\n",
        "  * Toko menjual Produk; Toko harus memiliki produk atau layanan yang dijual.\n",
        "* ex:Lokasi; Menunjukkan lokasi atau tempat.\n",
        "* ex:Produk; Menujukkan 'sesuatu' yang dihasilkan atau diperjual belikan.\n",
        "  * Produk berharga mata uang; Produk dijual seharga beberapa nilai tergantung mata uang yang digunakan.\n",
        "\n",
        "### Data\n",
        "**Data 1**\n",
        "\n",
        "GudangGrosir adalah toko. \n",
        "GudangGrosir bertempat di Jakarta. \n",
        "GudangGrosir menjual Headphone. \n",
        "Headphone berharga 6800. \n",
        "\n",
        "**Data 2**\n",
        "\n",
        "SoundSquare adalah toko. \n",
        "SoundSquare bertempat di Jakarta. \n",
        "SoundSquare menjual Headphone. \n",
        "Headphone berharga 83200. \n",
        "\n",
        "**Data 3**\n",
        "\n",
        "Computindo adalah toko. \n",
        "Computindo bertempat di Jakarta. \n",
        "Computindo menjual Headphone. \n",
        "Headphone berharga 459100. "
      ]
    },
    {
      "cell_type": "code",
      "metadata": {
        "id": "nXZL4AMNA5uR",
        "colab": {
          "base_uri": "https://localhost:8080/",
          "height": 17
        },
        "outputId": "1a4af59b-25ec-4bdc-8e0e-d69ee991897b"
      },
      "source": [
        "!python -m pip install --no-input jupyter-rdfify --quiet\n",
        "%reload_ext jupyter-rdfify"
      ],
      "execution_count": 57,
      "outputs": [
        {
          "output_type": "display_data",
          "data": {
            "application/javascript": [
              "\n",
              "    if (typeof IPython !== \"undefined\") {\n",
              "        IPython.CodeCell.options_default.highlight_modes['application/sparql-query'] = {'reg':[/^%%rdf sparql/]};\n",
              "        IPython.CodeCell.options_default.highlight_modes['text/turtle'] = {'reg':[/^%%rdf turtle/, /^%%rdf shex/]};\n",
              "        IPython.CodeCell.options_default.highlight_modes['application/ld+json'] = {'reg':[/^%%rdf json-ld/]};\n",
              "        IPython.notebook.get_cells().map(function(cell){ if (cell.cell_type == 'code'){ cell.auto_highlight(); } });\n",
              "    }\n",
              "    "
            ]
          },
          "metadata": {}
        }
      ]
    },
    {
      "cell_type": "code",
      "metadata": {
        "colab": {
          "base_uri": "https://localhost:8080/",
          "height": 428
        },
        "id": "gnrrxDlaLCvl",
        "outputId": "1a167fd7-29ea-4afa-bfc7-3d197593ed33"
      },
      "source": [
        "%%rdf turtle\n",
        "## Namespace\n",
        "@prefix rdfs: <http://www.w3.org/2000/01/rdf-schema#> .\n",
        "@prefix rdf: <http://www.w3.org/1999/02/22-rdf-syntax-ns#> .\n",
        "@prefix xsd: <http://www.w3.org/2001/XMLSchema#> .\n",
        "@prefix ex: <http://example.com/> .\n",
        "\n",
        "## Class\n",
        "ex:Toko a rdfs:Class .\n",
        "ex:Lokasi a rdfs:Class .\n",
        "ex:Produk a rdfs:Class .\n",
        "\n",
        "## Properties\n",
        "ex:bertempat a rdf:Property .\n",
        "ex:bertempat rdfs:domain ex:Toko .\n",
        "ex:bertempat rdfs:range ex:Lokasi .\n",
        "\n",
        "ex:menjual a rdf:Property .\n",
        "ex:menjual rdfs:domain ex:Toko .\n",
        "ex:menjual rdfs:range ex:Produk .\n",
        "\n",
        "ex:berharga a rdf:Property .\n",
        "ex:berharga rdfs:domain ex:Produk .\n",
        "ex:berharga rdfs:range xsd:currency .\n",
        "\n",
        "## Data 1\n",
        "ex:GudangGrosir a ex:Toko .\n",
        "ex:Jakarta a ex:Lokasi .\n",
        "ex:Headphone a ex:Produk .\n",
        "ex:GudangGrosir ex:bertempat ex:Jakarta .\n",
        "ex:GudangGrosir ex:menjual ex:Headphone .\n",
        "ex:Headphone ex:berharga \"6800\"^^xsd:currency ."
      ],
      "execution_count": 58,
      "outputs": [
        {
          "output_type": "display_data",
          "data": {
            "text/plain": [
              "<graphviz.dot.Digraph at 0x7f965dc10cd0>"
            ],
            "image/svg+xml": "<?xml version=\"1.0\" encoding=\"UTF-8\" standalone=\"no\"?>\n<!DOCTYPE svg PUBLIC \"-//W3C//DTD SVG 1.1//EN\"\n \"http://www.w3.org/Graphics/SVG/1.1/DTD/svg11.dtd\">\n<!-- Generated by graphviz version 2.40.1 (20161225.0304)\n -->\n<!-- Title: %3 Pages: 1 -->\n<svg width=\"1011pt\" height=\"305pt\"\n viewBox=\"0.00 0.00 1011.45 305.00\" xmlns=\"http://www.w3.org/2000/svg\" xmlns:xlink=\"http://www.w3.org/1999/xlink\">\n<g id=\"graph0\" class=\"graph\" transform=\"scale(1 1) rotate(0) translate(4 301)\">\n<title>%3</title>\n<polygon fill=\"#ffffff\" stroke=\"transparent\" points=\"-4,4 -4,-301 1007.4458,-301 1007.4458,4 -4,4\"/>\n<!-- 0 -->\n<g id=\"node1\" class=\"node\">\n<title>0</title>\n<ellipse fill=\"none\" stroke=\"#000000\" cx=\"107.4458\" cy=\"-105\" rx=\"47.3916\" ry=\"18\"/>\n<text text-anchor=\"middle\" x=\"107.4458\" y=\"-101.3\" font-family=\"Times,serif\" font-size=\"14.00\" fill=\"#000000\">ex:Lokasi</text>\n</g>\n<!-- 4 -->\n<g id=\"node5\" class=\"node\">\n<title>4</title>\n<ellipse fill=\"none\" stroke=\"#000000\" cx=\"273.4458\" cy=\"-18\" rx=\"46.5926\" ry=\"18\"/>\n<text text-anchor=\"middle\" x=\"273.4458\" y=\"-14.3\" font-family=\"Times,serif\" font-size=\"14.00\" fill=\"#000000\">rdfs:Class</text>\n</g>\n<!-- 0&#45;&gt;4 -->\n<g id=\"edge12\" class=\"edge\">\n<title>0&#45;&gt;4</title>\n<path fill=\"none\" stroke=\"#000000\" d=\"M135.6054,-90.2416C163.4367,-75.6554 206.1582,-53.2652 236.6587,-37.28\"/>\n<polygon fill=\"#000000\" stroke=\"#000000\" points=\"238.4695,-40.2826 245.702,-32.5404 235.22,-34.0825 238.4695,-40.2826\"/>\n<text text-anchor=\"middle\" x=\"223.4458\" y=\"-57.8\" font-family=\"Times,serif\" font-size=\"14.00\" fill=\"#000000\">rdf:type</text>\n</g>\n<!-- 1 -->\n<g id=\"node2\" class=\"node\">\n<title>1</title>\n<ellipse fill=\"none\" stroke=\"#000000\" cx=\"468.4458\" cy=\"-105\" rx=\"55.7903\" ry=\"18\"/>\n<text text-anchor=\"middle\" x=\"468.4458\" y=\"-101.3\" font-family=\"Times,serif\" font-size=\"14.00\" fill=\"#000000\">rdf:Property</text>\n</g>\n<!-- 2 -->\n<g id=\"node3\" class=\"node\">\n<title>2</title>\n<polygon fill=\"none\" stroke=\"#000000\" points=\"1003.4458,-123 857.4458,-123 857.4458,-87 1003.4458,-87 1003.4458,-123\"/>\n<text text-anchor=\"middle\" x=\"930.4458\" y=\"-101.3\" font-family=\"Times,serif\" font-size=\"14.00\" fill=\"#000000\">&quot;6800&quot;^^xsd:currency</text>\n</g>\n<!-- 3 -->\n<g id=\"node4\" class=\"node\">\n<title>3</title>\n<ellipse fill=\"none\" stroke=\"#000000\" cx=\"179.4458\" cy=\"-192\" rx=\"58.4896\" ry=\"18\"/>\n<text text-anchor=\"middle\" x=\"179.4458\" y=\"-188.3\" font-family=\"Times,serif\" font-size=\"14.00\" fill=\"#000000\">ex:bertempat</text>\n</g>\n<!-- 3&#45;&gt;0 -->\n<g id=\"edge18\" class=\"edge\">\n<title>3&#45;&gt;0</title>\n<path fill=\"none\" stroke=\"#000000\" d=\"M136.9434,-179.5084C125.7974,-174.1116 115.0588,-166.5347 108.4458,-156 104.3024,-149.3996 102.8895,-141.3105 102.8193,-133.5363\"/>\n<polygon fill=\"#000000\" stroke=\"#000000\" points=\"106.3282,-133.489 103.4257,-123.2995 99.3404,-133.075 106.3282,-133.489\"/>\n<text text-anchor=\"middle\" x=\"137.4458\" y=\"-144.8\" font-family=\"Times,serif\" font-size=\"14.00\" fill=\"#000000\">rdfs:range</text>\n</g>\n<!-- 3&#45;&gt;1 -->\n<g id=\"edge6\" class=\"edge\">\n<title>3&#45;&gt;1</title>\n<path fill=\"none\" stroke=\"#000000\" d=\"M213.16,-177.1472C239.1141,-166.1133 276.0757,-151.259 309.4458,-141 342.2585,-130.9124 379.67,-122.3025 409.957,-116.0345\"/>\n<polygon fill=\"#000000\" stroke=\"#000000\" points=\"410.8388,-119.4268 419.9382,-113.9998 409.4406,-112.5678 410.8388,-119.4268\"/>\n<text text-anchor=\"middle\" x=\"332.4458\" y=\"-144.8\" font-family=\"Times,serif\" font-size=\"14.00\" fill=\"#000000\">rdf:type</text>\n</g>\n<!-- 5 -->\n<g id=\"node6\" class=\"node\">\n<title>5</title>\n<ellipse fill=\"none\" stroke=\"#000000\" cx=\"273.4458\" cy=\"-105\" rx=\"42.4939\" ry=\"18\"/>\n<text text-anchor=\"middle\" x=\"273.4458\" y=\"-101.3\" font-family=\"Times,serif\" font-size=\"14.00\" fill=\"#000000\">ex:Toko</text>\n</g>\n<!-- 3&#45;&gt;5 -->\n<g id=\"edge2\" class=\"edge\">\n<title>3&#45;&gt;5</title>\n<path fill=\"none\" stroke=\"#000000\" d=\"M178.9701,-173.7272C179.6089,-163.1314 182.0725,-150.1224 189.4458,-141 198.595,-129.6805 211.9733,-121.8507 225.375,-116.4633\"/>\n<polygon fill=\"#000000\" stroke=\"#000000\" points=\"226.8623,-119.6474 235.0775,-112.957 224.4832,-113.0641 226.8623,-119.6474\"/>\n<text text-anchor=\"middle\" x=\"224.4458\" y=\"-144.8\" font-family=\"Times,serif\" font-size=\"14.00\" fill=\"#000000\">rdfs:domain</text>\n</g>\n<!-- 5&#45;&gt;4 -->\n<g id=\"edge1\" class=\"edge\">\n<title>5&#45;&gt;4</title>\n<path fill=\"none\" stroke=\"#000000\" d=\"M273.4458,-86.9735C273.4458,-75.1918 273.4458,-59.5607 273.4458,-46.1581\"/>\n<polygon fill=\"#000000\" stroke=\"#000000\" points=\"276.9459,-46.0033 273.4458,-36.0034 269.9459,-46.0034 276.9459,-46.0033\"/>\n<text text-anchor=\"middle\" x=\"296.4458\" y=\"-57.8\" font-family=\"Times,serif\" font-size=\"14.00\" fill=\"#000000\">rdf:type</text>\n</g>\n<!-- 6 -->\n<g id=\"node7\" class=\"node\">\n<title>6</title>\n<ellipse fill=\"none\" stroke=\"#000000\" cx=\"468.4458\" cy=\"-192\" rx=\"51.9908\" ry=\"18\"/>\n<text text-anchor=\"middle\" x=\"468.4458\" y=\"-188.3\" font-family=\"Times,serif\" font-size=\"14.00\" fill=\"#000000\">ex:menjual</text>\n</g>\n<!-- 6&#45;&gt;1 -->\n<g id=\"edge16\" class=\"edge\">\n<title>6&#45;&gt;1</title>\n<path fill=\"none\" stroke=\"#000000\" d=\"M468.4458,-173.9735C468.4458,-162.1918 468.4458,-146.5607 468.4458,-133.1581\"/>\n<polygon fill=\"#000000\" stroke=\"#000000\" points=\"471.9459,-133.0033 468.4458,-123.0034 464.9459,-133.0034 471.9459,-133.0033\"/>\n<text text-anchor=\"middle\" x=\"491.4458\" y=\"-144.8\" font-family=\"Times,serif\" font-size=\"14.00\" fill=\"#000000\">rdf:type</text>\n</g>\n<!-- 6&#45;&gt;5 -->\n<g id=\"edge14\" class=\"edge\">\n<title>6&#45;&gt;5</title>\n<path fill=\"none\" stroke=\"#000000\" d=\"M436.2455,-177.6337C402.1853,-162.4376 348.4485,-138.4627 312.1171,-122.2534\"/>\n<polygon fill=\"#000000\" stroke=\"#000000\" points=\"313.3791,-118.9839 302.8207,-118.1057 310.5269,-125.3765 313.3791,-118.9839\"/>\n<text text-anchor=\"middle\" x=\"418.4458\" y=\"-144.8\" font-family=\"Times,serif\" font-size=\"14.00\" fill=\"#000000\">rdfs:domain</text>\n</g>\n<!-- 12 -->\n<g id=\"node13\" class=\"node\">\n<title>12</title>\n<ellipse fill=\"none\" stroke=\"#000000\" cx=\"623.4458\" cy=\"-105\" rx=\"50.0912\" ry=\"18\"/>\n<text text-anchor=\"middle\" x=\"623.4458\" y=\"-101.3\" font-family=\"Times,serif\" font-size=\"14.00\" fill=\"#000000\">ex:Produk</text>\n</g>\n<!-- 6&#45;&gt;12 -->\n<g id=\"edge4\" class=\"edge\">\n<title>6&#45;&gt;12</title>\n<path fill=\"none\" stroke=\"#000000\" d=\"M490.1394,-175.3548C506.8799,-162.6708 528.763,-146.4816 538.4458,-141 551.0148,-133.8845 565.2688,-127.3171 578.4636,-121.794\"/>\n<polygon fill=\"#000000\" stroke=\"#000000\" points=\"579.9099,-124.984 587.8451,-117.9638 577.264,-118.5033 579.9099,-124.984\"/>\n<text text-anchor=\"middle\" x=\"567.4458\" y=\"-144.8\" font-family=\"Times,serif\" font-size=\"14.00\" fill=\"#000000\">rdfs:range</text>\n</g>\n<!-- 7 -->\n<g id=\"node8\" class=\"node\">\n<title>7</title>\n<ellipse fill=\"none\" stroke=\"#000000\" cx=\"47.4458\" cy=\"-192\" rx=\"47.3916\" ry=\"18\"/>\n<text text-anchor=\"middle\" x=\"47.4458\" y=\"-188.3\" font-family=\"Times,serif\" font-size=\"14.00\" fill=\"#000000\">ex:Jakarta</text>\n</g>\n<!-- 7&#45;&gt;0 -->\n<g id=\"edge3\" class=\"edge\">\n<title>7&#45;&gt;0</title>\n<path fill=\"none\" stroke=\"#000000\" d=\"M39.0078,-173.871C35.5285,-163.5781 33.5285,-150.8281 39.4458,-141 44.5084,-132.5915 52.2667,-126.0441 60.7562,-120.9822\"/>\n<polygon fill=\"#000000\" stroke=\"#000000\" points=\"62.5669,-123.9844 69.7854,-116.2291 59.3062,-117.7902 62.5669,-123.9844\"/>\n<text text-anchor=\"middle\" x=\"62.4458\" y=\"-144.8\" font-family=\"Times,serif\" font-size=\"14.00\" fill=\"#000000\">rdf:type</text>\n</g>\n<!-- 8 -->\n<g id=\"node9\" class=\"node\">\n<title>8</title>\n<ellipse fill=\"none\" stroke=\"#000000\" cx=\"861.4458\" cy=\"-192\" rx=\"64.9885\" ry=\"18\"/>\n<text text-anchor=\"middle\" x=\"861.4458\" y=\"-188.3\" font-family=\"Times,serif\" font-size=\"14.00\" fill=\"#000000\">ex:Headphone</text>\n</g>\n<!-- 8&#45;&gt;2 -->\n<g id=\"edge8\" class=\"edge\">\n<title>8&#45;&gt;2</title>\n<path fill=\"none\" stroke=\"#000000\" d=\"M887.9286,-175.4222C895.2605,-169.9105 902.758,-163.2953 908.4458,-156 913.8412,-149.0797 918.1807,-140.6351 921.5332,-132.6242\"/>\n<polygon fill=\"#000000\" stroke=\"#000000\" points=\"924.8345,-133.79 925.1376,-123.1995 918.2963,-131.2894 924.8345,-133.79\"/>\n<text text-anchor=\"middle\" x=\"949.9458\" y=\"-144.8\" font-family=\"Times,serif\" font-size=\"14.00\" fill=\"#000000\">ex:berharga</text>\n</g>\n<!-- 8&#45;&gt;12 -->\n<g id=\"edge5\" class=\"edge\">\n<title>8&#45;&gt;12</title>\n<path fill=\"none\" stroke=\"#000000\" d=\"M851.6516,-174.0376C844.5134,-162.7182 833.7752,-148.8129 820.4458,-141 778.842,-116.6144 760.8728,-131.7298 713.4458,-123 701.57,-120.8141 688.8386,-118.345 676.7988,-115.9519\"/>\n<polygon fill=\"#000000\" stroke=\"#000000\" points=\"677.3745,-112.4978 666.8821,-113.9675 676.0009,-119.3617 677.3745,-112.4978\"/>\n<text text-anchor=\"middle\" x=\"860.4458\" y=\"-144.8\" font-family=\"Times,serif\" font-size=\"14.00\" fill=\"#000000\">rdf:type</text>\n</g>\n<!-- 9 -->\n<g id=\"node10\" class=\"node\">\n<title>9</title>\n<ellipse fill=\"none\" stroke=\"#000000\" cx=\"687.4458\" cy=\"-192\" rx=\"53.8905\" ry=\"18\"/>\n<text text-anchor=\"middle\" x=\"687.4458\" y=\"-188.3\" font-family=\"Times,serif\" font-size=\"14.00\" fill=\"#000000\">ex:berharga</text>\n</g>\n<!-- 9&#45;&gt;1 -->\n<g id=\"edge15\" class=\"edge\">\n<title>9&#45;&gt;1</title>\n<path fill=\"none\" stroke=\"#000000\" d=\"M654.775,-177.4137C642.1699,-171.3389 627.8318,-163.8688 615.4458,-156 606.3646,-150.2307 606.0321,-145.8843 596.4458,-141 574.8557,-129.9996 549.4511,-121.9677 526.9898,-116.3194\"/>\n<polygon fill=\"#000000\" stroke=\"#000000\" points=\"527.7753,-112.9086 517.2334,-113.9666 526.1342,-119.7135 527.7753,-112.9086\"/>\n<text text-anchor=\"middle\" x=\"638.4458\" y=\"-144.8\" font-family=\"Times,serif\" font-size=\"14.00\" fill=\"#000000\">rdf:type</text>\n</g>\n<!-- 11 -->\n<g id=\"node12\" class=\"node\">\n<title>11</title>\n<ellipse fill=\"none\" stroke=\"#000000\" cx=\"780.4458\" cy=\"-105\" rx=\"58.4896\" ry=\"18\"/>\n<text text-anchor=\"middle\" x=\"780.4458\" y=\"-101.3\" font-family=\"Times,serif\" font-size=\"14.00\" fill=\"#000000\">xsd:currency</text>\n</g>\n<!-- 9&#45;&gt;11 -->\n<g id=\"edge10\" class=\"edge\">\n<title>9&#45;&gt;11</title>\n<path fill=\"none\" stroke=\"#000000\" d=\"M718.3266,-177.0666C728.3077,-171.3417 738.9737,-164.1898 747.4458,-156 754.6847,-149.0023 761.1138,-140.1312 766.3305,-131.757\"/>\n<polygon fill=\"#000000\" stroke=\"#000000\" points=\"769.4416,-133.3712 771.4962,-122.9774 763.4084,-129.8214 769.4416,-133.3712\"/>\n<text text-anchor=\"middle\" x=\"787.4458\" y=\"-144.8\" font-family=\"Times,serif\" font-size=\"14.00\" fill=\"#000000\">rdfs:range</text>\n</g>\n<!-- 9&#45;&gt;12 -->\n<g id=\"edge9\" class=\"edge\">\n<title>9&#45;&gt;12</title>\n<path fill=\"none\" stroke=\"#000000\" d=\"M681.9348,-173.9542C678.2644,-163.689 672.7644,-150.939 665.4458,-141 662.1003,-136.4567 658.0783,-132.1027 653.8666,-128.0904\"/>\n<polygon fill=\"#000000\" stroke=\"#000000\" points=\"655.9871,-125.2927 646.1856,-121.2702 651.3394,-130.527 655.9871,-125.2927\"/>\n<text text-anchor=\"middle\" x=\"708.4458\" y=\"-144.8\" font-family=\"Times,serif\" font-size=\"14.00\" fill=\"#000000\">rdfs:domain</text>\n</g>\n<!-- 10 -->\n<g id=\"node11\" class=\"node\">\n<title>10</title>\n<ellipse fill=\"none\" stroke=\"#000000\" cx=\"273.4458\" cy=\"-279\" rx=\"75.2868\" ry=\"18\"/>\n<text text-anchor=\"middle\" x=\"273.4458\" y=\"-275.3\" font-family=\"Times,serif\" font-size=\"14.00\" fill=\"#000000\">ex:GudangGrosir</text>\n</g>\n<!-- 10&#45;&gt;5 -->\n<g id=\"edge13\" class=\"edge\">\n<title>10&#45;&gt;5</title>\n<path fill=\"none\" stroke=\"#000000\" d=\"M273.4458,-260.7078C273.4458,-230.3436 273.4458,-169.3226 273.4458,-133.3464\"/>\n<polygon fill=\"#000000\" stroke=\"#000000\" points=\"276.9459,-133.0471 273.4458,-123.0471 269.9459,-133.0471 276.9459,-133.0471\"/>\n<text text-anchor=\"middle\" x=\"296.4458\" y=\"-188.3\" font-family=\"Times,serif\" font-size=\"14.00\" fill=\"#000000\">rdf:type</text>\n</g>\n<!-- 10&#45;&gt;7 -->\n<g id=\"edge11\" class=\"edge\">\n<title>10&#45;&gt;7</title>\n<path fill=\"none\" stroke=\"#000000\" d=\"M233.5618,-263.6464C193.4403,-248.2014 131.768,-224.4603 90.5414,-208.5899\"/>\n<polygon fill=\"#000000\" stroke=\"#000000\" points=\"91.6318,-205.2593 81.042,-204.933 89.1169,-211.792 91.6318,-205.2593\"/>\n<text text-anchor=\"middle\" x=\"211.4458\" y=\"-231.8\" font-family=\"Times,serif\" font-size=\"14.00\" fill=\"#000000\">ex:bertempat</text>\n</g>\n<!-- 10&#45;&gt;8 -->\n<g id=\"edge7\" class=\"edge\">\n<title>10&#45;&gt;8</title>\n<path fill=\"none\" stroke=\"#000000\" d=\"M338.694,-269.9218C430.6105,-257.0512 603.4341,-232.5511 750.4458,-210 765.027,-207.7633 780.6711,-205.2788 795.4803,-202.8876\"/>\n<polygon fill=\"#000000\" stroke=\"#000000\" points=\"796.2649,-206.3062 805.576,-201.2513 795.1449,-199.3964 796.2649,-206.3062\"/>\n<text text-anchor=\"middle\" x=\"651.4458\" y=\"-231.8\" font-family=\"Times,serif\" font-size=\"14.00\" fill=\"#000000\">ex:menjual</text>\n</g>\n<!-- 12&#45;&gt;4 -->\n<g id=\"edge17\" class=\"edge\">\n<title>12&#45;&gt;4</title>\n<path fill=\"none\" stroke=\"#000000\" d=\"M582.2671,-94.7642C517.5079,-78.6669 392.1039,-47.495 322.6795,-30.2381\"/>\n<polygon fill=\"#000000\" stroke=\"#000000\" points=\"323.4056,-26.8122 312.8566,-27.7964 321.717,-33.6054 323.4056,-26.8122\"/>\n<text text-anchor=\"middle\" x=\"492.4458\" y=\"-57.8\" font-family=\"Times,serif\" font-size=\"14.00\" fill=\"#000000\">rdf:type</text>\n</g>\n</g>\n</svg>\n"
          },
          "metadata": {}
        }
      ]
    },
    {
      "cell_type": "code",
      "metadata": {
        "colab": {
          "base_uri": "https://localhost:8080/",
          "height": 428
        },
        "id": "rtJ7sihtx1Jz",
        "outputId": "b9eedf7b-52e1-4bfb-d555-072da6decf4d"
      },
      "source": [
        "%%rdf turtle\n",
        "## Namespace\n",
        "@prefix rdfs: <http://www.w3.org/2000/01/rdf-schema#> .\n",
        "@prefix rdf: <http://www.w3.org/1999/02/22-rdf-syntax-ns#> .\n",
        "@prefix xsd: <http://www.w3.org/2001/XMLSchema#> .\n",
        "@prefix ex: <http://example.com/> .\n",
        "\n",
        "## Class\n",
        "ex:Toko a rdfs:Class .\n",
        "ex:Lokasi a rdfs:Class .\n",
        "ex:Produk a rdfs:Class .\n",
        "\n",
        "## Properties\n",
        "ex:bertempat a rdf:Property .\n",
        "ex:bertempat rdfs:domain ex:Toko .\n",
        "ex:bertempat rdfs:range ex:Lokasi .\n",
        "\n",
        "ex:menjual a rdf:Property .\n",
        "ex:menjual rdfs:domain ex:Toko .\n",
        "ex:menjual rdfs:range ex:Produk .\n",
        "\n",
        "ex:berharga a rdf:Property .\n",
        "ex:berharga rdfs:domain ex:Produk .\n",
        "ex:berharga rdfs:range xsd:currency .\n",
        "\n",
        "## Data 2\n",
        "ex:SoundSquare a ex:Toko .\n",
        "ex:Jakarta a ex:Lokasi .\n",
        "ex:Headphone a ex:Produk .\n",
        "ex:SoundSquare ex:bertempat ex:Jakarta .\n",
        "ex:SoundSquare ex:menjual ex:Headphone .\n",
        "ex:Headphone ex:berharga \"83200\"^^xsd:currency .\n"
      ],
      "execution_count": 59,
      "outputs": [
        {
          "output_type": "display_data",
          "data": {
            "text/plain": [
              "<graphviz.dot.Digraph at 0x7f965dbfa9d0>"
            ],
            "image/svg+xml": "<?xml version=\"1.0\" encoding=\"UTF-8\" standalone=\"no\"?>\n<!DOCTYPE svg PUBLIC \"-//W3C//DTD SVG 1.1//EN\"\n \"http://www.w3.org/Graphics/SVG/1.1/DTD/svg11.dtd\">\n<!-- Generated by graphviz version 2.40.1 (20161225.0304)\n -->\n<!-- Title: %3 Pages: 1 -->\n<svg width=\"1018pt\" height=\"305pt\"\n viewBox=\"0.00 0.00 1017.95 305.00\" xmlns=\"http://www.w3.org/2000/svg\" xmlns:xlink=\"http://www.w3.org/1999/xlink\">\n<g id=\"graph0\" class=\"graph\" transform=\"scale(1 1) rotate(0) translate(4 301)\">\n<title>%3</title>\n<polygon fill=\"#ffffff\" stroke=\"transparent\" points=\"-4,4 -4,-301 1013.9458,-301 1013.9458,4 -4,4\"/>\n<!-- 0 -->\n<g id=\"node1\" class=\"node\">\n<title>0</title>\n<ellipse fill=\"none\" stroke=\"#000000\" cx=\"107.4458\" cy=\"-105\" rx=\"47.3916\" ry=\"18\"/>\n<text text-anchor=\"middle\" x=\"107.4458\" y=\"-101.3\" font-family=\"Times,serif\" font-size=\"14.00\" fill=\"#000000\">ex:Lokasi</text>\n</g>\n<!-- 5 -->\n<g id=\"node6\" class=\"node\">\n<title>5</title>\n<ellipse fill=\"none\" stroke=\"#000000\" cx=\"273.4458\" cy=\"-18\" rx=\"46.5926\" ry=\"18\"/>\n<text text-anchor=\"middle\" x=\"273.4458\" y=\"-14.3\" font-family=\"Times,serif\" font-size=\"14.00\" fill=\"#000000\">rdfs:Class</text>\n</g>\n<!-- 0&#45;&gt;5 -->\n<g id=\"edge1\" class=\"edge\">\n<title>0&#45;&gt;5</title>\n<path fill=\"none\" stroke=\"#000000\" d=\"M135.6054,-90.2416C163.4367,-75.6554 206.1582,-53.2652 236.6587,-37.28\"/>\n<polygon fill=\"#000000\" stroke=\"#000000\" points=\"238.4695,-40.2826 245.702,-32.5404 235.22,-34.0825 238.4695,-40.2826\"/>\n<text text-anchor=\"middle\" x=\"223.4458\" y=\"-57.8\" font-family=\"Times,serif\" font-size=\"14.00\" fill=\"#000000\">rdf:type</text>\n</g>\n<!-- 1 -->\n<g id=\"node2\" class=\"node\">\n<title>1</title>\n<ellipse fill=\"none\" stroke=\"#000000\" cx=\"273.4458\" cy=\"-279\" rx=\"72.5877\" ry=\"18\"/>\n<text text-anchor=\"middle\" x=\"273.4458\" y=\"-275.3\" font-family=\"Times,serif\" font-size=\"14.00\" fill=\"#000000\">ex:SoundSquare</text>\n</g>\n<!-- 6 -->\n<g id=\"node7\" class=\"node\">\n<title>6</title>\n<ellipse fill=\"none\" stroke=\"#000000\" cx=\"273.4458\" cy=\"-105\" rx=\"42.4939\" ry=\"18\"/>\n<text text-anchor=\"middle\" x=\"273.4458\" y=\"-101.3\" font-family=\"Times,serif\" font-size=\"14.00\" fill=\"#000000\">ex:Toko</text>\n</g>\n<!-- 1&#45;&gt;6 -->\n<g id=\"edge18\" class=\"edge\">\n<title>1&#45;&gt;6</title>\n<path fill=\"none\" stroke=\"#000000\" d=\"M273.4458,-260.7078C273.4458,-230.3436 273.4458,-169.3226 273.4458,-133.3464\"/>\n<polygon fill=\"#000000\" stroke=\"#000000\" points=\"276.9459,-133.0471 273.4458,-123.0471 269.9459,-133.0471 276.9459,-133.0471\"/>\n<text text-anchor=\"middle\" x=\"296.4458\" y=\"-188.3\" font-family=\"Times,serif\" font-size=\"14.00\" fill=\"#000000\">rdf:type</text>\n</g>\n<!-- 8 -->\n<g id=\"node9\" class=\"node\">\n<title>8</title>\n<ellipse fill=\"none\" stroke=\"#000000\" cx=\"47.4458\" cy=\"-192\" rx=\"47.3916\" ry=\"18\"/>\n<text text-anchor=\"middle\" x=\"47.4458\" y=\"-188.3\" font-family=\"Times,serif\" font-size=\"14.00\" fill=\"#000000\">ex:Jakarta</text>\n</g>\n<!-- 1&#45;&gt;8 -->\n<g id=\"edge3\" class=\"edge\">\n<title>1&#45;&gt;8</title>\n<path fill=\"none\" stroke=\"#000000\" d=\"M234.0796,-263.8458C193.9213,-248.3866 131.7868,-224.4676 90.3824,-208.5287\"/>\n<polygon fill=\"#000000\" stroke=\"#000000\" points=\"91.4359,-205.1839 80.846,-204.8576 88.921,-211.7166 91.4359,-205.1839\"/>\n<text text-anchor=\"middle\" x=\"211.4458\" y=\"-231.8\" font-family=\"Times,serif\" font-size=\"14.00\" fill=\"#000000\">ex:bertempat</text>\n</g>\n<!-- 9 -->\n<g id=\"node10\" class=\"node\">\n<title>9</title>\n<ellipse fill=\"none\" stroke=\"#000000\" cx=\"861.4458\" cy=\"-192\" rx=\"64.9885\" ry=\"18\"/>\n<text text-anchor=\"middle\" x=\"861.4458\" y=\"-188.3\" font-family=\"Times,serif\" font-size=\"14.00\" fill=\"#000000\">ex:Headphone</text>\n</g>\n<!-- 1&#45;&gt;9 -->\n<g id=\"edge17\" class=\"edge\">\n<title>1&#45;&gt;9</title>\n<path fill=\"none\" stroke=\"#000000\" d=\"M337.1504,-270.1379C428.6652,-257.3269 602.607,-232.678 750.4458,-210 765.027,-207.7633 780.6711,-205.2788 795.4803,-202.8876\"/>\n<polygon fill=\"#000000\" stroke=\"#000000\" points=\"796.2649,-206.3062 805.576,-201.2513 795.1449,-199.3964 796.2649,-206.3062\"/>\n<text text-anchor=\"middle\" x=\"651.4458\" y=\"-231.8\" font-family=\"Times,serif\" font-size=\"14.00\" fill=\"#000000\">ex:menjual</text>\n</g>\n<!-- 2 -->\n<g id=\"node3\" class=\"node\">\n<title>2</title>\n<polygon fill=\"none\" stroke=\"#000000\" points=\"1009.9458,-123 856.9458,-123 856.9458,-87 1009.9458,-87 1009.9458,-123\"/>\n<text text-anchor=\"middle\" x=\"933.4458\" y=\"-101.3\" font-family=\"Times,serif\" font-size=\"14.00\" fill=\"#000000\">&quot;83200&quot;^^xsd:currency</text>\n</g>\n<!-- 3 -->\n<g id=\"node4\" class=\"node\">\n<title>3</title>\n<ellipse fill=\"none\" stroke=\"#000000\" cx=\"468.4458\" cy=\"-105\" rx=\"55.7903\" ry=\"18\"/>\n<text text-anchor=\"middle\" x=\"468.4458\" y=\"-101.3\" font-family=\"Times,serif\" font-size=\"14.00\" fill=\"#000000\">rdf:Property</text>\n</g>\n<!-- 4 -->\n<g id=\"node5\" class=\"node\">\n<title>4</title>\n<ellipse fill=\"none\" stroke=\"#000000\" cx=\"179.4458\" cy=\"-192\" rx=\"58.4896\" ry=\"18\"/>\n<text text-anchor=\"middle\" x=\"179.4458\" y=\"-188.3\" font-family=\"Times,serif\" font-size=\"14.00\" fill=\"#000000\">ex:bertempat</text>\n</g>\n<!-- 4&#45;&gt;0 -->\n<g id=\"edge10\" class=\"edge\">\n<title>4&#45;&gt;0</title>\n<path fill=\"none\" stroke=\"#000000\" d=\"M136.9434,-179.5084C125.7974,-174.1116 115.0588,-166.5347 108.4458,-156 104.3024,-149.3996 102.8895,-141.3105 102.8193,-133.5363\"/>\n<polygon fill=\"#000000\" stroke=\"#000000\" points=\"106.3282,-133.489 103.4257,-123.2995 99.3404,-133.075 106.3282,-133.489\"/>\n<text text-anchor=\"middle\" x=\"137.4458\" y=\"-144.8\" font-family=\"Times,serif\" font-size=\"14.00\" fill=\"#000000\">rdfs:range</text>\n</g>\n<!-- 4&#45;&gt;3 -->\n<g id=\"edge11\" class=\"edge\">\n<title>4&#45;&gt;3</title>\n<path fill=\"none\" stroke=\"#000000\" d=\"M213.16,-177.1472C239.1141,-166.1133 276.0757,-151.259 309.4458,-141 342.2585,-130.9124 379.67,-122.3025 409.957,-116.0345\"/>\n<polygon fill=\"#000000\" stroke=\"#000000\" points=\"410.8388,-119.4268 419.9382,-113.9998 409.4406,-112.5678 410.8388,-119.4268\"/>\n<text text-anchor=\"middle\" x=\"332.4458\" y=\"-144.8\" font-family=\"Times,serif\" font-size=\"14.00\" fill=\"#000000\">rdf:type</text>\n</g>\n<!-- 4&#45;&gt;6 -->\n<g id=\"edge9\" class=\"edge\">\n<title>4&#45;&gt;6</title>\n<path fill=\"none\" stroke=\"#000000\" d=\"M178.9701,-173.7272C179.6089,-163.1314 182.0725,-150.1224 189.4458,-141 198.595,-129.6805 211.9733,-121.8507 225.375,-116.4633\"/>\n<polygon fill=\"#000000\" stroke=\"#000000\" points=\"226.8623,-119.6474 235.0775,-112.957 224.4832,-113.0641 226.8623,-119.6474\"/>\n<text text-anchor=\"middle\" x=\"224.4458\" y=\"-144.8\" font-family=\"Times,serif\" font-size=\"14.00\" fill=\"#000000\">rdfs:domain</text>\n</g>\n<!-- 6&#45;&gt;5 -->\n<g id=\"edge12\" class=\"edge\">\n<title>6&#45;&gt;5</title>\n<path fill=\"none\" stroke=\"#000000\" d=\"M273.4458,-86.9735C273.4458,-75.1918 273.4458,-59.5607 273.4458,-46.1581\"/>\n<polygon fill=\"#000000\" stroke=\"#000000\" points=\"276.9459,-46.0033 273.4458,-36.0034 269.9459,-46.0034 276.9459,-46.0033\"/>\n<text text-anchor=\"middle\" x=\"296.4458\" y=\"-57.8\" font-family=\"Times,serif\" font-size=\"14.00\" fill=\"#000000\">rdf:type</text>\n</g>\n<!-- 7 -->\n<g id=\"node8\" class=\"node\">\n<title>7</title>\n<ellipse fill=\"none\" stroke=\"#000000\" cx=\"468.4458\" cy=\"-192\" rx=\"51.9908\" ry=\"18\"/>\n<text text-anchor=\"middle\" x=\"468.4458\" y=\"-188.3\" font-family=\"Times,serif\" font-size=\"14.00\" fill=\"#000000\">ex:menjual</text>\n</g>\n<!-- 7&#45;&gt;3 -->\n<g id=\"edge16\" class=\"edge\">\n<title>7&#45;&gt;3</title>\n<path fill=\"none\" stroke=\"#000000\" d=\"M468.4458,-173.9735C468.4458,-162.1918 468.4458,-146.5607 468.4458,-133.1581\"/>\n<polygon fill=\"#000000\" stroke=\"#000000\" points=\"471.9459,-133.0033 468.4458,-123.0034 464.9459,-133.0034 471.9459,-133.0033\"/>\n<text text-anchor=\"middle\" x=\"491.4458\" y=\"-144.8\" font-family=\"Times,serif\" font-size=\"14.00\" fill=\"#000000\">rdf:type</text>\n</g>\n<!-- 7&#45;&gt;6 -->\n<g id=\"edge14\" class=\"edge\">\n<title>7&#45;&gt;6</title>\n<path fill=\"none\" stroke=\"#000000\" d=\"M436.2455,-177.6337C402.1853,-162.4376 348.4485,-138.4627 312.1171,-122.2534\"/>\n<polygon fill=\"#000000\" stroke=\"#000000\" points=\"313.3791,-118.9839 302.8207,-118.1057 310.5269,-125.3765 313.3791,-118.9839\"/>\n<text text-anchor=\"middle\" x=\"418.4458\" y=\"-144.8\" font-family=\"Times,serif\" font-size=\"14.00\" fill=\"#000000\">rdfs:domain</text>\n</g>\n<!-- 12 -->\n<g id=\"node13\" class=\"node\">\n<title>12</title>\n<ellipse fill=\"none\" stroke=\"#000000\" cx=\"623.4458\" cy=\"-105\" rx=\"50.0912\" ry=\"18\"/>\n<text text-anchor=\"middle\" x=\"623.4458\" y=\"-101.3\" font-family=\"Times,serif\" font-size=\"14.00\" fill=\"#000000\">ex:Produk</text>\n</g>\n<!-- 7&#45;&gt;12 -->\n<g id=\"edge15\" class=\"edge\">\n<title>7&#45;&gt;12</title>\n<path fill=\"none\" stroke=\"#000000\" d=\"M490.1394,-175.3548C506.8799,-162.6708 528.763,-146.4816 538.4458,-141 551.0148,-133.8845 565.2688,-127.3171 578.4636,-121.794\"/>\n<polygon fill=\"#000000\" stroke=\"#000000\" points=\"579.9099,-124.984 587.8451,-117.9638 577.264,-118.5033 579.9099,-124.984\"/>\n<text text-anchor=\"middle\" x=\"567.4458\" y=\"-144.8\" font-family=\"Times,serif\" font-size=\"14.00\" fill=\"#000000\">rdfs:range</text>\n</g>\n<!-- 8&#45;&gt;0 -->\n<g id=\"edge2\" class=\"edge\">\n<title>8&#45;&gt;0</title>\n<path fill=\"none\" stroke=\"#000000\" d=\"M39.0078,-173.871C35.5285,-163.5781 33.5285,-150.8281 39.4458,-141 44.5084,-132.5915 52.2667,-126.0441 60.7562,-120.9822\"/>\n<polygon fill=\"#000000\" stroke=\"#000000\" points=\"62.5669,-123.9844 69.7854,-116.2291 59.3062,-117.7902 62.5669,-123.9844\"/>\n<text text-anchor=\"middle\" x=\"62.4458\" y=\"-144.8\" font-family=\"Times,serif\" font-size=\"14.00\" fill=\"#000000\">rdf:type</text>\n</g>\n<!-- 9&#45;&gt;2 -->\n<g id=\"edge7\" class=\"edge\">\n<title>9&#45;&gt;2</title>\n<path fill=\"none\" stroke=\"#000000\" d=\"M889.6441,-175.685C897.4446,-170.1807 905.4149,-163.5036 911.4458,-156 916.943,-149.1604 921.312,-140.739 924.6601,-132.7247\"/>\n<polygon fill=\"#000000\" stroke=\"#000000\" points=\"927.9668,-133.8757 928.2451,-123.2846 921.4228,-131.3906 927.9668,-133.8757\"/>\n<text text-anchor=\"middle\" x=\"952.9458\" y=\"-144.8\" font-family=\"Times,serif\" font-size=\"14.00\" fill=\"#000000\">ex:berharga</text>\n</g>\n<!-- 9&#45;&gt;12 -->\n<g id=\"edge6\" class=\"edge\">\n<title>9&#45;&gt;12</title>\n<path fill=\"none\" stroke=\"#000000\" d=\"M851.6516,-174.0376C844.5134,-162.7182 833.7752,-148.8129 820.4458,-141 778.842,-116.6144 760.8728,-131.7298 713.4458,-123 701.57,-120.8141 688.8386,-118.345 676.7988,-115.9519\"/>\n<polygon fill=\"#000000\" stroke=\"#000000\" points=\"677.3745,-112.4978 666.8821,-113.9675 676.0009,-119.3617 677.3745,-112.4978\"/>\n<text text-anchor=\"middle\" x=\"860.4458\" y=\"-144.8\" font-family=\"Times,serif\" font-size=\"14.00\" fill=\"#000000\">rdf:type</text>\n</g>\n<!-- 10 -->\n<g id=\"node11\" class=\"node\">\n<title>10</title>\n<ellipse fill=\"none\" stroke=\"#000000\" cx=\"687.4458\" cy=\"-192\" rx=\"53.8905\" ry=\"18\"/>\n<text text-anchor=\"middle\" x=\"687.4458\" y=\"-188.3\" font-family=\"Times,serif\" font-size=\"14.00\" fill=\"#000000\">ex:berharga</text>\n</g>\n<!-- 10&#45;&gt;3 -->\n<g id=\"edge4\" class=\"edge\">\n<title>10&#45;&gt;3</title>\n<path fill=\"none\" stroke=\"#000000\" d=\"M654.775,-177.4137C642.1699,-171.3389 627.8318,-163.8688 615.4458,-156 606.3646,-150.2307 606.0321,-145.8843 596.4458,-141 574.8557,-129.9996 549.4511,-121.9677 526.9898,-116.3194\"/>\n<polygon fill=\"#000000\" stroke=\"#000000\" points=\"527.7753,-112.9086 517.2334,-113.9666 526.1342,-119.7135 527.7753,-112.9086\"/>\n<text text-anchor=\"middle\" x=\"638.4458\" y=\"-144.8\" font-family=\"Times,serif\" font-size=\"14.00\" fill=\"#000000\">rdf:type</text>\n</g>\n<!-- 11 -->\n<g id=\"node12\" class=\"node\">\n<title>11</title>\n<ellipse fill=\"none\" stroke=\"#000000\" cx=\"780.4458\" cy=\"-105\" rx=\"58.4896\" ry=\"18\"/>\n<text text-anchor=\"middle\" x=\"780.4458\" y=\"-101.3\" font-family=\"Times,serif\" font-size=\"14.00\" fill=\"#000000\">xsd:currency</text>\n</g>\n<!-- 10&#45;&gt;11 -->\n<g id=\"edge13\" class=\"edge\">\n<title>10&#45;&gt;11</title>\n<path fill=\"none\" stroke=\"#000000\" d=\"M718.3266,-177.0666C728.3077,-171.3417 738.9737,-164.1898 747.4458,-156 754.6847,-149.0023 761.1138,-140.1312 766.3305,-131.757\"/>\n<polygon fill=\"#000000\" stroke=\"#000000\" points=\"769.4416,-133.3712 771.4962,-122.9774 763.4084,-129.8214 769.4416,-133.3712\"/>\n<text text-anchor=\"middle\" x=\"787.4458\" y=\"-144.8\" font-family=\"Times,serif\" font-size=\"14.00\" fill=\"#000000\">rdfs:range</text>\n</g>\n<!-- 10&#45;&gt;12 -->\n<g id=\"edge5\" class=\"edge\">\n<title>10&#45;&gt;12</title>\n<path fill=\"none\" stroke=\"#000000\" d=\"M681.9348,-173.9542C678.2644,-163.689 672.7644,-150.939 665.4458,-141 662.1003,-136.4567 658.0783,-132.1027 653.8666,-128.0904\"/>\n<polygon fill=\"#000000\" stroke=\"#000000\" points=\"655.9871,-125.2927 646.1856,-121.2702 651.3394,-130.527 655.9871,-125.2927\"/>\n<text text-anchor=\"middle\" x=\"708.4458\" y=\"-144.8\" font-family=\"Times,serif\" font-size=\"14.00\" fill=\"#000000\">rdfs:domain</text>\n</g>\n<!-- 12&#45;&gt;5 -->\n<g id=\"edge8\" class=\"edge\">\n<title>12&#45;&gt;5</title>\n<path fill=\"none\" stroke=\"#000000\" d=\"M582.2671,-94.7642C517.5079,-78.6669 392.1039,-47.495 322.6795,-30.2381\"/>\n<polygon fill=\"#000000\" stroke=\"#000000\" points=\"323.4056,-26.8122 312.8566,-27.7964 321.717,-33.6054 323.4056,-26.8122\"/>\n<text text-anchor=\"middle\" x=\"492.4458\" y=\"-57.8\" font-family=\"Times,serif\" font-size=\"14.00\" fill=\"#000000\">rdf:type</text>\n</g>\n</g>\n</svg>\n"
          },
          "metadata": {}
        }
      ]
    },
    {
      "cell_type": "code",
      "metadata": {
        "colab": {
          "base_uri": "https://localhost:8080/",
          "height": 448
        },
        "id": "gCXs3vTSx1pM",
        "outputId": "88995814-ad19-4775-c988-13277034249f"
      },
      "source": [
        "%%rdf turtle\n",
        "## Namespace\n",
        "@prefix rdfs: <http://www.w3.org/2000/01/rdf-schema#> .\n",
        "@prefix rdf: <http://www.w3.org/1999/02/22-rdf-syntax-ns#> .\n",
        "@prefix xsd: <http://www.w3.org/2001/XMLSchema#> .\n",
        "@prefix ex: <http://example.com/> .\n",
        "\n",
        "## Class\n",
        "ex:Toko a rdfs:Class .\n",
        "ex:Lokasi a rdfs:Class .\n",
        "ex:Produk a rdfs:Class .\n",
        "\n",
        "## Properties\n",
        "ex:bertempat a rdf:Property .\n",
        "ex:bertempat rdfs:domain ex:Toko .\n",
        "ex:bertempat rdfs:range ex:Lokasi .\n",
        "\n",
        "ex:menjual a rdf:Property .\n",
        "ex:menjual rdfs:domain ex:Toko .\n",
        "ex:menjual rdfs:range ex:Produk .\n",
        "\n",
        "ex:berharga a rdf:Property .\n",
        "ex:berharga rdfs:domain ex:Produk .\n",
        "ex:berharga rdfs:range xsd:currency .\n",
        "\n",
        "## Data 3\n",
        "ex:Computindo a ex:Toko .\n",
        "ex:Jakarta a ex:Lokasi .\n",
        "ex:Headphone a ex:Produk .\n",
        "ex:SoundSquare ex:bertempat ex:Jakarta .\n",
        "ex:SoundSquare ex:menjual ex:Headphone .\n",
        "ex:Headphone ex:berharga \"459100\"^^xsd:currency ."
      ],
      "execution_count": 60,
      "outputs": [
        {
          "output_type": "display_data",
          "data": {
            "text/plain": [
              "<graphviz.dot.Digraph at 0x7f965dbfa850>"
            ],
            "image/svg+xml": "<?xml version=\"1.0\" encoding=\"UTF-8\" standalone=\"no\"?>\n<!DOCTYPE svg PUBLIC \"-//W3C//DTD SVG 1.1//EN\"\n \"http://www.w3.org/Graphics/SVG/1.1/DTD/svg11.dtd\">\n<!-- Generated by graphviz version 2.40.1 (20161225.0304)\n -->\n<!-- Title: %3 Pages: 1 -->\n<svg width=\"1079pt\" height=\"305pt\"\n viewBox=\"0.00 0.00 1078.95 305.00\" xmlns=\"http://www.w3.org/2000/svg\" xmlns:xlink=\"http://www.w3.org/1999/xlink\">\n<g id=\"graph0\" class=\"graph\" transform=\"scale(1 1) rotate(0) translate(4 301)\">\n<title>%3</title>\n<polygon fill=\"#ffffff\" stroke=\"transparent\" points=\"-4,4 -4,-301 1074.9458,-301 1074.9458,4 -4,4\"/>\n<!-- 0 -->\n<g id=\"node1\" class=\"node\">\n<title>0</title>\n<ellipse fill=\"none\" stroke=\"#000000\" cx=\"116.4458\" cy=\"-105\" rx=\"47.3916\" ry=\"18\"/>\n<text text-anchor=\"middle\" x=\"116.4458\" y=\"-101.3\" font-family=\"Times,serif\" font-size=\"14.00\" fill=\"#000000\">ex:Lokasi</text>\n</g>\n<!-- 5 -->\n<g id=\"node6\" class=\"node\">\n<title>5</title>\n<ellipse fill=\"none\" stroke=\"#000000\" cx=\"290.4458\" cy=\"-18\" rx=\"46.5926\" ry=\"18\"/>\n<text text-anchor=\"middle\" x=\"290.4458\" y=\"-14.3\" font-family=\"Times,serif\" font-size=\"14.00\" fill=\"#000000\">rdfs:Class</text>\n</g>\n<!-- 0&#45;&gt;5 -->\n<g id=\"edge18\" class=\"edge\">\n<title>0&#45;&gt;5</title>\n<path fill=\"none\" stroke=\"#000000\" d=\"M145.1784,-90.6337C174.5212,-75.9623 220.2302,-53.1078 252.527,-36.9594\"/>\n<polygon fill=\"#000000\" stroke=\"#000000\" points=\"254.2915,-39.9903 261.6705,-32.3876 251.161,-33.7293 254.2915,-39.9903\"/>\n<text text-anchor=\"middle\" x=\"236.4458\" y=\"-57.8\" font-family=\"Times,serif\" font-size=\"14.00\" fill=\"#000000\">rdf:type</text>\n</g>\n<!-- 1 -->\n<g id=\"node2\" class=\"node\">\n<title>1</title>\n<ellipse fill=\"none\" stroke=\"#000000\" cx=\"480.4458\" cy=\"-279\" rx=\"72.5877\" ry=\"18\"/>\n<text text-anchor=\"middle\" x=\"480.4458\" y=\"-275.3\" font-family=\"Times,serif\" font-size=\"14.00\" fill=\"#000000\">ex:SoundSquare</text>\n</g>\n<!-- 8 -->\n<g id=\"node9\" class=\"node\">\n<title>8</title>\n<ellipse fill=\"none\" stroke=\"#000000\" cx=\"47.4458\" cy=\"-192\" rx=\"47.3916\" ry=\"18\"/>\n<text text-anchor=\"middle\" x=\"47.4458\" y=\"-188.3\" font-family=\"Times,serif\" font-size=\"14.00\" fill=\"#000000\">ex:Jakarta</text>\n</g>\n<!-- 1&#45;&gt;8 -->\n<g id=\"edge6\" class=\"edge\">\n<title>1&#45;&gt;8</title>\n<path fill=\"none\" stroke=\"#000000\" d=\"M417.3984,-269.8859C342.2915,-258.4646 213.2937,-237.0624 104.4458,-210 100.6456,-209.0552 96.7273,-207.9978 92.8082,-206.8816\"/>\n<polygon fill=\"#000000\" stroke=\"#000000\" points=\"93.714,-203.4996 83.1318,-204.0164 91.7265,-210.2116 93.714,-203.4996\"/>\n<text text-anchor=\"middle\" x=\"294.4458\" y=\"-231.8\" font-family=\"Times,serif\" font-size=\"14.00\" fill=\"#000000\">ex:bertempat</text>\n</g>\n<!-- 9 -->\n<g id=\"node10\" class=\"node\">\n<title>9</title>\n<ellipse fill=\"none\" stroke=\"#000000\" cx=\"914.4458\" cy=\"-192\" rx=\"64.9885\" ry=\"18\"/>\n<text text-anchor=\"middle\" x=\"914.4458\" y=\"-188.3\" font-family=\"Times,serif\" font-size=\"14.00\" fill=\"#000000\">ex:Headphone</text>\n</g>\n<!-- 1&#45;&gt;9 -->\n<g id=\"edge2\" class=\"edge\">\n<title>1&#45;&gt;9</title>\n<path fill=\"none\" stroke=\"#000000\" d=\"M537.1837,-267.6263C618.4352,-251.3385 767.4156,-221.4738 851.8083,-204.5564\"/>\n<polygon fill=\"#000000\" stroke=\"#000000\" points=\"852.654,-207.9565 861.771,-202.5592 851.2781,-201.0931 852.654,-207.9565\"/>\n<text text-anchor=\"middle\" x=\"754.4458\" y=\"-231.8\" font-family=\"Times,serif\" font-size=\"14.00\" fill=\"#000000\">ex:menjual</text>\n</g>\n<!-- 2 -->\n<g id=\"node3\" class=\"node\">\n<title>2</title>\n<ellipse fill=\"none\" stroke=\"#000000\" cx=\"521.4458\" cy=\"-105\" rx=\"55.7903\" ry=\"18\"/>\n<text text-anchor=\"middle\" x=\"521.4458\" y=\"-101.3\" font-family=\"Times,serif\" font-size=\"14.00\" fill=\"#000000\">rdf:Property</text>\n</g>\n<!-- 3 -->\n<g id=\"node4\" class=\"node\">\n<title>3</title>\n<ellipse fill=\"none\" stroke=\"#000000\" cx=\"171.4458\" cy=\"-192\" rx=\"58.4896\" ry=\"18\"/>\n<text text-anchor=\"middle\" x=\"171.4458\" y=\"-188.3\" font-family=\"Times,serif\" font-size=\"14.00\" fill=\"#000000\">ex:bertempat</text>\n</g>\n<!-- 3&#45;&gt;0 -->\n<g id=\"edge13\" class=\"edge\">\n<title>3&#45;&gt;0</title>\n<path fill=\"none\" stroke=\"#000000\" d=\"M138.3567,-177.072C130.0795,-171.6671 122.2099,-164.6958 117.4458,-156 113.7013,-149.1653 112.413,-141.0031 112.3347,-133.2337\"/>\n<polygon fill=\"#000000\" stroke=\"#000000\" points=\"115.8405,-133.2112 112.8609,-123.044 108.8498,-132.8502 115.8405,-133.2112\"/>\n<text text-anchor=\"middle\" x=\"146.4458\" y=\"-144.8\" font-family=\"Times,serif\" font-size=\"14.00\" fill=\"#000000\">rdfs:range</text>\n</g>\n<!-- 3&#45;&gt;2 -->\n<g id=\"edge9\" class=\"edge\">\n<title>3&#45;&gt;2</title>\n<path fill=\"none\" stroke=\"#000000\" d=\"M214.9256,-179.7599C222.7288,-177.723 230.8076,-175.7173 238.4458,-174 282.0779,-164.19 296.6858,-174.4017 337.4458,-156 347.2516,-151.573 346.7188,-145.5977 356.4458,-141 388.1385,-126.0195 426.2179,-117.1795 457.8056,-112.0119\"/>\n<polygon fill=\"#000000\" stroke=\"#000000\" points=\"458.4711,-115.4506 467.8169,-110.46 457.3988,-108.5332 458.4711,-115.4506\"/>\n<text text-anchor=\"middle\" x=\"379.4458\" y=\"-144.8\" font-family=\"Times,serif\" font-size=\"14.00\" fill=\"#000000\">rdf:type</text>\n</g>\n<!-- 6 -->\n<g id=\"node7\" class=\"node\">\n<title>6</title>\n<ellipse fill=\"none\" stroke=\"#000000\" cx=\"290.4458\" cy=\"-105\" rx=\"42.4939\" ry=\"18\"/>\n<text text-anchor=\"middle\" x=\"290.4458\" y=\"-101.3\" font-family=\"Times,serif\" font-size=\"14.00\" fill=\"#000000\">ex:Toko</text>\n</g>\n<!-- 3&#45;&gt;6 -->\n<g id=\"edge15\" class=\"edge\">\n<title>3&#45;&gt;6</title>\n<path fill=\"none\" stroke=\"#000000\" d=\"M183.0403,-174.2255C190.6885,-163.5476 201.4812,-150.2782 213.4458,-141 223.8436,-132.9368 236.3393,-126.1232 248.2101,-120.6668\"/>\n<polygon fill=\"#000000\" stroke=\"#000000\" points=\"249.7851,-123.7982 257.5443,-116.584 246.9798,-117.3849 249.7851,-123.7982\"/>\n<text text-anchor=\"middle\" x=\"248.4458\" y=\"-144.8\" font-family=\"Times,serif\" font-size=\"14.00\" fill=\"#000000\">rdfs:domain</text>\n</g>\n<!-- 4 -->\n<g id=\"node5\" class=\"node\">\n<title>4</title>\n<ellipse fill=\"none\" stroke=\"#000000\" cx=\"317.4458\" cy=\"-192\" rx=\"69.5877\" ry=\"18\"/>\n<text text-anchor=\"middle\" x=\"317.4458\" y=\"-188.3\" font-family=\"Times,serif\" font-size=\"14.00\" fill=\"#000000\">ex:Computindo</text>\n</g>\n<!-- 4&#45;&gt;6 -->\n<g id=\"edge17\" class=\"edge\">\n<title>4&#45;&gt;6</title>\n<path fill=\"none\" stroke=\"#000000\" d=\"M301.3289,-174.1506C297.3406,-168.6993 293.5963,-162.4346 291.4458,-156 289.0799,-148.9211 288.1634,-140.9754 287.9984,-133.5011\"/>\n<polygon fill=\"#000000\" stroke=\"#000000\" points=\"291.4999,-133.4533 288.1929,-123.3878 284.5012,-133.3187 291.4999,-133.4533\"/>\n<text text-anchor=\"middle\" x=\"314.4458\" y=\"-144.8\" font-family=\"Times,serif\" font-size=\"14.00\" fill=\"#000000\">rdf:type</text>\n</g>\n<!-- 6&#45;&gt;5 -->\n<g id=\"edge7\" class=\"edge\">\n<title>6&#45;&gt;5</title>\n<path fill=\"none\" stroke=\"#000000\" d=\"M290.4458,-86.9735C290.4458,-75.1918 290.4458,-59.5607 290.4458,-46.1581\"/>\n<polygon fill=\"#000000\" stroke=\"#000000\" points=\"293.9459,-46.0033 290.4458,-36.0034 286.9459,-46.0034 293.9459,-46.0033\"/>\n<text text-anchor=\"middle\" x=\"313.4458\" y=\"-57.8\" font-family=\"Times,serif\" font-size=\"14.00\" fill=\"#000000\">rdf:type</text>\n</g>\n<!-- 7 -->\n<g id=\"node8\" class=\"node\">\n<title>7</title>\n<ellipse fill=\"none\" stroke=\"#000000\" cx=\"521.4458\" cy=\"-192\" rx=\"51.9908\" ry=\"18\"/>\n<text text-anchor=\"middle\" x=\"521.4458\" y=\"-188.3\" font-family=\"Times,serif\" font-size=\"14.00\" fill=\"#000000\">ex:menjual</text>\n</g>\n<!-- 7&#45;&gt;2 -->\n<g id=\"edge14\" class=\"edge\">\n<title>7&#45;&gt;2</title>\n<path fill=\"none\" stroke=\"#000000\" d=\"M521.4458,-173.9735C521.4458,-162.1918 521.4458,-146.5607 521.4458,-133.1581\"/>\n<polygon fill=\"#000000\" stroke=\"#000000\" points=\"524.9459,-133.0033 521.4458,-123.0034 517.9459,-133.0034 524.9459,-133.0033\"/>\n<text text-anchor=\"middle\" x=\"544.4458\" y=\"-144.8\" font-family=\"Times,serif\" font-size=\"14.00\" fill=\"#000000\">rdf:type</text>\n</g>\n<!-- 7&#45;&gt;6 -->\n<g id=\"edge8\" class=\"edge\">\n<title>7&#45;&gt;6</title>\n<path fill=\"none\" stroke=\"#000000\" d=\"M491.0977,-177.3787C468.1415,-166.6048 435.6848,-151.9779 406.4458,-141 383.5244,-132.3941 357.5323,-124.1889 335.9704,-117.7914\"/>\n<polygon fill=\"#000000\" stroke=\"#000000\" points=\"336.67,-114.3493 326.0891,-114.8935 334.7,-121.0664 336.67,-114.3493\"/>\n<text text-anchor=\"middle\" x=\"476.4458\" y=\"-144.8\" font-family=\"Times,serif\" font-size=\"14.00\" fill=\"#000000\">rdfs:domain</text>\n</g>\n<!-- 13 -->\n<g id=\"node14\" class=\"node\">\n<title>13</title>\n<ellipse fill=\"none\" stroke=\"#000000\" cx=\"676.4458\" cy=\"-105\" rx=\"50.0912\" ry=\"18\"/>\n<text text-anchor=\"middle\" x=\"676.4458\" y=\"-101.3\" font-family=\"Times,serif\" font-size=\"14.00\" fill=\"#000000\">ex:Produk</text>\n</g>\n<!-- 7&#45;&gt;13 -->\n<g id=\"edge1\" class=\"edge\">\n<title>7&#45;&gt;13</title>\n<path fill=\"none\" stroke=\"#000000\" d=\"M543.1394,-175.3548C559.8799,-162.6708 581.763,-146.4816 591.4458,-141 604.0148,-133.8845 618.2688,-127.3171 631.4636,-121.794\"/>\n<polygon fill=\"#000000\" stroke=\"#000000\" points=\"632.9099,-124.984 640.8451,-117.9638 630.264,-118.5033 632.9099,-124.984\"/>\n<text text-anchor=\"middle\" x=\"620.4458\" y=\"-144.8\" font-family=\"Times,serif\" font-size=\"14.00\" fill=\"#000000\">rdfs:range</text>\n</g>\n<!-- 8&#45;&gt;0 -->\n<g id=\"edge10\" class=\"edge\">\n<title>8&#45;&gt;0</title>\n<path fill=\"none\" stroke=\"#000000\" d=\"M50.1323,-173.6504C52.3612,-163.2839 56.3612,-150.5339 63.4458,-141 67.8245,-135.1074 73.4683,-129.8604 79.4337,-125.3177\"/>\n<polygon fill=\"#000000\" stroke=\"#000000\" points=\"81.4804,-128.1574 87.6791,-119.5652 77.4751,-122.4165 81.4804,-128.1574\"/>\n<text text-anchor=\"middle\" x=\"86.4458\" y=\"-144.8\" font-family=\"Times,serif\" font-size=\"14.00\" fill=\"#000000\">rdf:type</text>\n</g>\n<!-- 11 -->\n<g id=\"node12\" class=\"node\">\n<title>11</title>\n<polygon fill=\"none\" stroke=\"#000000\" points=\"1070.9458,-123 909.9458,-123 909.9458,-87 1070.9458,-87 1070.9458,-123\"/>\n<text text-anchor=\"middle\" x=\"990.4458\" y=\"-101.3\" font-family=\"Times,serif\" font-size=\"14.00\" fill=\"#000000\">&quot;459100&quot;^^xsd:currency</text>\n</g>\n<!-- 9&#45;&gt;11 -->\n<g id=\"edge11\" class=\"edge\">\n<title>9&#45;&gt;11</title>\n<path fill=\"none\" stroke=\"#000000\" d=\"M942.0846,-175.6192C949.9574,-170.0716 958.1075,-163.3873 964.4458,-156 970.3996,-149.0608 975.432,-140.5225 979.4363,-132.4306\"/>\n<polygon fill=\"#000000\" stroke=\"#000000\" points=\"982.656,-133.8064 983.6584,-123.2591 976.2974,-130.8792 982.656,-133.8064\"/>\n<text text-anchor=\"middle\" x=\"1006.9458\" y=\"-144.8\" font-family=\"Times,serif\" font-size=\"14.00\" fill=\"#000000\">ex:berharga</text>\n</g>\n<!-- 9&#45;&gt;13 -->\n<g id=\"edge3\" class=\"edge\">\n<title>9&#45;&gt;13</title>\n<path fill=\"none\" stroke=\"#000000\" d=\"M904.6516,-174.0376C897.5134,-162.7182 886.7752,-148.8129 873.4458,-141 831.842,-116.6144 813.8728,-131.7298 766.4458,-123 754.57,-120.8141 741.8386,-118.345 729.7988,-115.9519\"/>\n<polygon fill=\"#000000\" stroke=\"#000000\" points=\"730.3745,-112.4978 719.8821,-113.9675 729.0009,-119.3617 730.3745,-112.4978\"/>\n<text text-anchor=\"middle\" x=\"913.4458\" y=\"-144.8\" font-family=\"Times,serif\" font-size=\"14.00\" fill=\"#000000\">rdf:type</text>\n</g>\n<!-- 10 -->\n<g id=\"node11\" class=\"node\">\n<title>10</title>\n<ellipse fill=\"none\" stroke=\"#000000\" cx=\"740.4458\" cy=\"-192\" rx=\"53.8905\" ry=\"18\"/>\n<text text-anchor=\"middle\" x=\"740.4458\" y=\"-188.3\" font-family=\"Times,serif\" font-size=\"14.00\" fill=\"#000000\">ex:berharga</text>\n</g>\n<!-- 10&#45;&gt;2 -->\n<g id=\"edge16\" class=\"edge\">\n<title>10&#45;&gt;2</title>\n<path fill=\"none\" stroke=\"#000000\" d=\"M707.775,-177.4137C695.1699,-171.3389 680.8318,-163.8688 668.4458,-156 659.3646,-150.2307 659.0321,-145.8843 649.4458,-141 627.8557,-129.9996 602.4511,-121.9677 579.9898,-116.3194\"/>\n<polygon fill=\"#000000\" stroke=\"#000000\" points=\"580.7753,-112.9086 570.2334,-113.9666 579.1342,-119.7135 580.7753,-112.9086\"/>\n<text text-anchor=\"middle\" x=\"691.4458\" y=\"-144.8\" font-family=\"Times,serif\" font-size=\"14.00\" fill=\"#000000\">rdf:type</text>\n</g>\n<!-- 12 -->\n<g id=\"node13\" class=\"node\">\n<title>12</title>\n<ellipse fill=\"none\" stroke=\"#000000\" cx=\"833.4458\" cy=\"-105\" rx=\"58.4896\" ry=\"18\"/>\n<text text-anchor=\"middle\" x=\"833.4458\" y=\"-101.3\" font-family=\"Times,serif\" font-size=\"14.00\" fill=\"#000000\">xsd:currency</text>\n</g>\n<!-- 10&#45;&gt;12 -->\n<g id=\"edge12\" class=\"edge\">\n<title>10&#45;&gt;12</title>\n<path fill=\"none\" stroke=\"#000000\" d=\"M771.3266,-177.0666C781.3077,-171.3417 791.9737,-164.1898 800.4458,-156 807.6847,-149.0023 814.1138,-140.1312 819.3305,-131.757\"/>\n<polygon fill=\"#000000\" stroke=\"#000000\" points=\"822.4416,-133.3712 824.4962,-122.9774 816.4084,-129.8214 822.4416,-133.3712\"/>\n<text text-anchor=\"middle\" x=\"840.4458\" y=\"-144.8\" font-family=\"Times,serif\" font-size=\"14.00\" fill=\"#000000\">rdfs:range</text>\n</g>\n<!-- 10&#45;&gt;13 -->\n<g id=\"edge4\" class=\"edge\">\n<title>10&#45;&gt;13</title>\n<path fill=\"none\" stroke=\"#000000\" d=\"M734.9348,-173.9542C731.2644,-163.689 725.7644,-150.939 718.4458,-141 715.1003,-136.4567 711.0783,-132.1027 706.8666,-128.0904\"/>\n<polygon fill=\"#000000\" stroke=\"#000000\" points=\"708.9871,-125.2927 699.1856,-121.2702 704.3394,-130.527 708.9871,-125.2927\"/>\n<text text-anchor=\"middle\" x=\"761.4458\" y=\"-144.8\" font-family=\"Times,serif\" font-size=\"14.00\" fill=\"#000000\">rdfs:domain</text>\n</g>\n<!-- 13&#45;&gt;5 -->\n<g id=\"edge5\" class=\"edge\">\n<title>13&#45;&gt;5</title>\n<path fill=\"none\" stroke=\"#000000\" d=\"M634.0329,-95.4406C562.3412,-79.2821 417.5289,-46.6431 340.8015,-29.3496\"/>\n<polygon fill=\"#000000\" stroke=\"#000000\" points=\"341.4161,-25.9004 330.8913,-27.1159 339.877,-32.7291 341.4161,-25.9004\"/>\n<text text-anchor=\"middle\" x=\"529.4458\" y=\"-57.8\" font-family=\"Times,serif\" font-size=\"14.00\" fill=\"#000000\">rdf:type</text>\n</g>\n</g>\n</svg>\n"
          },
          "metadata": {}
        }
      ]
    },
    {
      "cell_type": "markdown",
      "metadata": {
        "id": "OOh_wHq1BSmT"
      },
      "source": [
        "## Vocabulary Perpanjangan dari Vocabulary Populer\n",
        "\n",
        "### Namespace\n",
        "\n",
        "* rdfs: <http://www.w3.org/2000/01/rdf-schema#>\n",
        "* rdf: <http://www.w3.org/1999/02/22-rdf-syntax-ns#>\n",
        "* xsd: <http://www.w3.org/2001/XMLSchema#>\n",
        "* dbpedia: <https://dbpedia.org/resource/>\n",
        "* ex: <http://example.com/>\n",
        "* gr: <http://www.heppnetz.de/ontologies/goodrelations/v1#> \n",
        "* schema: <https://schema.org/> \n",
        "\n",
        "### Kelas dan Properti\n",
        "* BusinessEntity\n",
        "  * BusinessEntity memiliki Location\n",
        "  * BusinessEntity menawarkan (offers) Offering\n",
        "* Location\n",
        "* Offering\n",
        "  * Offering bernama (name)\n",
        "  * Offering memiliki spesifikasiharga (hasPriceSpecification) UnitPriceSpecification\n",
        "* UnitPriceSpecification\n",
        "  * memiliki mata uang (hasCurrency) dengan nilai xsd:currency\n",
        "  * UnitPriceSpecification memiliki nilai harga (hasCurrencyValue dengan nilai numerik\n",
        "\n",
        "\n",
        "### Data\n",
        "**Data 1**\n",
        "\n",
        "GudangGrosir adalah toko. \n",
        "GudangGrosir bertempat di Jakarta. \n",
        "GudangGrosir menjual Headphone. \n",
        "Headphone berharga 6800. \n",
        "\n",
        "**Data 2**\n",
        "\n",
        "SoundSquare adalah toko. \n",
        "SoundSquare bertempat di Jakarta. \n",
        "SoundSquare menjual Headphone. \n",
        "Headphone berharga 83200. \n",
        "\n",
        "**Data 3**\n",
        "\n",
        "Computindo adalah toko. \n",
        "Computindo bertempat di Jakarta. \n",
        "Computindo menjual Headphone. \n",
        "Headphone berharga 459100. "
      ]
    },
    {
      "cell_type": "code",
      "metadata": {
        "id": "Vek0ZSFnBdj9",
        "colab": {
          "base_uri": "https://localhost:8080/",
          "height": 428
        },
        "outputId": "9bc0db58-2f72-4cfc-a815-f9e06a9ba6d0"
      },
      "source": [
        "%%rdf turtle\n",
        "# Data 1\n",
        "\n",
        "## Namespace\n",
        "@prefix rdfs: <http://www.w3.org/2000/01/rdf-schema#> .\n",
        "@prefix rdf: <http://www.w3.org/1999/02/22-rdf-syntax-ns#> .\n",
        "@prefix xsd: <http://www.w3.org/2001/XMLSchema#> .\n",
        "@prefix dbpedia: <https://dbpedia.org/resource/> .\n",
        "@prefix ex: <http://example.com/> .\n",
        "@prefix gr: <http://www.heppnetz.de/ontologies/goodrelations/v1#> .\n",
        "@prefix schema: <https://schema.org/> .\n",
        "\n",
        "## Class\n",
        "\n",
        "## Properties\n",
        "\n",
        "## Data 1\n",
        "ex:GudangGrosir a gr:BusinessEntity .\n",
        "dbpedia:Jakarta a gr:Location .\n",
        "ex:GudangGrosir schema:location dbpedia:Jakarta .\n",
        "\n",
        "ex:Harga a gr:UnitPriceSpecification .\n",
        "ex:Harga gr:hasCurrency \"IDR\"^^xsd:string .\n",
        "ex:Harga gr:hasCurrencyValue \"6800\"^^xsd:integer .\n",
        "\n",
        "ex:Headphone a gr:Offering .\n",
        "ex:Headphone gr:name \"TaffSTUDIO Splitter Audio Shape U 3.5mm ke Headphone & Mic - K0650\" .\n",
        "ex:Headphone gr:hasPriceSpecification ex:Harga .\n",
        "\n",
        "ex:GudangGrosir gr:offers ex:Headphone ."
      ],
      "execution_count": 61,
      "outputs": [
        {
          "output_type": "display_data",
          "data": {
            "text/plain": [
              "<graphviz.dot.Digraph at 0x7f965dc98650>"
            ],
            "image/svg+xml": "<?xml version=\"1.0\" encoding=\"UTF-8\" standalone=\"no\"?>\n<!DOCTYPE svg PUBLIC \"-//W3C//DTD SVG 1.1//EN\"\n \"http://www.w3.org/Graphics/SVG/1.1/DTD/svg11.dtd\">\n<!-- Generated by graphviz version 2.40.1 (20161225.0304)\n -->\n<!-- Title: %3 Pages: 1 -->\n<svg width=\"939pt\" height=\"305pt\"\n viewBox=\"0.00 0.00 938.74 305.00\" xmlns=\"http://www.w3.org/2000/svg\" xmlns:xlink=\"http://www.w3.org/1999/xlink\">\n<g id=\"graph0\" class=\"graph\" transform=\"scale(1 1) rotate(0) translate(4 301)\">\n<title>%3</title>\n<polygon fill=\"#ffffff\" stroke=\"transparent\" points=\"-4,4 -4,-301 934.7439,-301 934.7439,4 -4,4\"/>\n<!-- 0 -->\n<g id=\"node1\" class=\"node\">\n<title>0</title>\n<ellipse fill=\"none\" stroke=\"#000000\" cx=\"862.5\" cy=\"-105\" rx=\"53.8905\" ry=\"18\"/>\n<text text-anchor=\"middle\" x=\"862.5\" y=\"-101.3\" font-family=\"Times,serif\" font-size=\"14.00\" fill=\"#000000\">gr:Location</text>\n</g>\n<!-- 1 -->\n<g id=\"node2\" class=\"node\">\n<title>1</title>\n<polygon fill=\"none\" stroke=\"#000000\" points=\"469,-123 0,-123 0,-87 469,-87 469,-123\"/>\n<text text-anchor=\"middle\" x=\"234.5\" y=\"-101.3\" font-family=\"Times,serif\" font-size=\"14.00\" fill=\"#000000\">&quot;TaffSTUDIO Splitter Audio Shape U 3.5mm ke Headphone &amp; Mic &#45; K0650&quot;</text>\n</g>\n<!-- 2 -->\n<g id=\"node3\" class=\"node\">\n<title>2</title>\n<ellipse fill=\"none\" stroke=\"#000000\" cx=\"539.5\" cy=\"-105\" rx=\"52.7911\" ry=\"18\"/>\n<text text-anchor=\"middle\" x=\"539.5\" y=\"-101.3\" font-family=\"Times,serif\" font-size=\"14.00\" fill=\"#000000\">gr:Offering</text>\n</g>\n<!-- 3 -->\n<g id=\"node4\" class=\"node\">\n<title>3</title>\n<ellipse fill=\"none\" stroke=\"#000000\" cx=\"539.5\" cy=\"-192\" rx=\"64.9885\" ry=\"18\"/>\n<text text-anchor=\"middle\" x=\"539.5\" y=\"-188.3\" font-family=\"Times,serif\" font-size=\"14.00\" fill=\"#000000\">ex:Headphone</text>\n</g>\n<!-- 3&#45;&gt;1 -->\n<g id=\"edge5\" class=\"edge\">\n<title>3&#45;&gt;1</title>\n<path fill=\"none\" stroke=\"#000000\" d=\"M494.1678,-179.0692C444.9892,-165.0412 365.7447,-142.437 307.7161,-125.8846\"/>\n<polygon fill=\"#000000\" stroke=\"#000000\" points=\"308.4445,-122.4528 297.868,-123.0755 306.5243,-129.1843 308.4445,-122.4528\"/>\n<text text-anchor=\"middle\" x=\"429\" y=\"-144.8\" font-family=\"Times,serif\" font-size=\"14.00\" fill=\"#000000\">gr:name</text>\n</g>\n<!-- 3&#45;&gt;2 -->\n<g id=\"edge8\" class=\"edge\">\n<title>3&#45;&gt;2</title>\n<path fill=\"none\" stroke=\"#000000\" d=\"M539.5,-173.9735C539.5,-162.1918 539.5,-146.5607 539.5,-133.1581\"/>\n<polygon fill=\"#000000\" stroke=\"#000000\" points=\"543.0001,-133.0033 539.5,-123.0034 536.0001,-133.0034 543.0001,-133.0033\"/>\n<text text-anchor=\"middle\" x=\"562.5\" y=\"-144.8\" font-family=\"Times,serif\" font-size=\"14.00\" fill=\"#000000\">rdf:type</text>\n</g>\n<!-- 9 -->\n<g id=\"node10\" class=\"node\">\n<title>9</title>\n<ellipse fill=\"none\" stroke=\"#000000\" cx=\"654.5\" cy=\"-105\" rx=\"44.393\" ry=\"18\"/>\n<text text-anchor=\"middle\" x=\"654.5\" y=\"-101.3\" font-family=\"Times,serif\" font-size=\"14.00\" fill=\"#000000\">ex:Harga</text>\n</g>\n<!-- 3&#45;&gt;9 -->\n<g id=\"edge9\" class=\"edge\">\n<title>3&#45;&gt;9</title>\n<path fill=\"none\" stroke=\"#000000\" d=\"M563.3001,-175.1677C571.6405,-169.1891 581.0357,-162.3635 589.5,-156 601.7702,-146.7752 615.1414,-136.3499 626.5485,-127.3402\"/>\n<polygon fill=\"#000000\" stroke=\"#000000\" points=\"628.8003,-130.0215 634.4636,-121.0673 624.4525,-124.5354 628.8003,-130.0215\"/>\n<text text-anchor=\"middle\" x=\"677.5\" y=\"-144.8\" font-family=\"Times,serif\" font-size=\"14.00\" fill=\"#000000\">gr:hasPriceSpecification</text>\n</g>\n<!-- 4 -->\n<g id=\"node5\" class=\"node\">\n<title>4</title>\n<polygon fill=\"none\" stroke=\"#000000\" points=\"532,-36 409,-36 409,0 532,0 532,-36\"/>\n<text text-anchor=\"middle\" x=\"470.5\" y=\"-14.3\" font-family=\"Times,serif\" font-size=\"14.00\" fill=\"#000000\">&quot;IDR&quot;^^xsd:string</text>\n</g>\n<!-- 5 -->\n<g id=\"node6\" class=\"node\">\n<title>5</title>\n<ellipse fill=\"none\" stroke=\"#000000\" cx=\"699.5\" cy=\"-192\" rx=\"76.8869\" ry=\"18\"/>\n<text text-anchor=\"middle\" x=\"699.5\" y=\"-188.3\" font-family=\"Times,serif\" font-size=\"14.00\" fill=\"#000000\">gr:BusinessEntity</text>\n</g>\n<!-- 6 -->\n<g id=\"node7\" class=\"node\">\n<title>6</title>\n<ellipse fill=\"none\" stroke=\"#000000\" cx=\"654.5\" cy=\"-18\" rx=\"104.7816\" ry=\"18\"/>\n<text text-anchor=\"middle\" x=\"654.5\" y=\"-14.3\" font-family=\"Times,serif\" font-size=\"14.00\" fill=\"#000000\">gr:UnitPriceSpecification</text>\n</g>\n<!-- 7 -->\n<g id=\"node8\" class=\"node\">\n<title>7</title>\n<ellipse fill=\"none\" stroke=\"#000000\" cx=\"699.5\" cy=\"-279\" rx=\"75.2868\" ry=\"18\"/>\n<text text-anchor=\"middle\" x=\"699.5\" y=\"-275.3\" font-family=\"Times,serif\" font-size=\"14.00\" fill=\"#000000\">ex:GudangGrosir</text>\n</g>\n<!-- 7&#45;&gt;3 -->\n<g id=\"edge1\" class=\"edge\">\n<title>7&#45;&gt;3</title>\n<path fill=\"none\" stroke=\"#000000\" d=\"M669.0286,-262.4312C643.2057,-248.3899 606.0319,-228.1767 578.1256,-213.0027\"/>\n<polygon fill=\"#000000\" stroke=\"#000000\" points=\"579.504,-209.7682 569.0468,-208.0661 576.1601,-215.9179 579.504,-209.7682\"/>\n<text text-anchor=\"middle\" x=\"654\" y=\"-231.8\" font-family=\"Times,serif\" font-size=\"14.00\" fill=\"#000000\">gr:offers</text>\n</g>\n<!-- 7&#45;&gt;5 -->\n<g id=\"edge2\" class=\"edge\">\n<title>7&#45;&gt;5</title>\n<path fill=\"none\" stroke=\"#000000\" d=\"M699.5,-260.9735C699.5,-249.1918 699.5,-233.5607 699.5,-220.1581\"/>\n<polygon fill=\"#000000\" stroke=\"#000000\" points=\"703.0001,-220.0033 699.5,-210.0034 696.0001,-220.0034 703.0001,-220.0033\"/>\n<text text-anchor=\"middle\" x=\"722.5\" y=\"-231.8\" font-family=\"Times,serif\" font-size=\"14.00\" fill=\"#000000\">rdf:type</text>\n</g>\n<!-- 8 -->\n<g id=\"node9\" class=\"node\">\n<title>8</title>\n<ellipse fill=\"none\" stroke=\"#000000\" cx=\"862.5\" cy=\"-192\" rx=\"68.4888\" ry=\"18\"/>\n<text text-anchor=\"middle\" x=\"862.5\" y=\"-188.3\" font-family=\"Times,serif\" font-size=\"14.00\" fill=\"#000000\">dbpedia:Jakarta</text>\n</g>\n<!-- 7&#45;&gt;8 -->\n<g id=\"edge7\" class=\"edge\">\n<title>7&#45;&gt;8</title>\n<path fill=\"none\" stroke=\"#000000\" d=\"M730.5427,-262.4312C756.8809,-248.3734 794.81,-228.129 823.2507,-212.949\"/>\n<polygon fill=\"#000000\" stroke=\"#000000\" points=\"824.9506,-216.0091 832.1246,-208.2126 821.6545,-209.8337 824.9506,-216.0091\"/>\n<text text-anchor=\"middle\" x=\"837.5\" y=\"-231.8\" font-family=\"Times,serif\" font-size=\"14.00\" fill=\"#000000\">schema:location</text>\n</g>\n<!-- 8&#45;&gt;0 -->\n<g id=\"edge3\" class=\"edge\">\n<title>8&#45;&gt;0</title>\n<path fill=\"none\" stroke=\"#000000\" d=\"M862.5,-173.9735C862.5,-162.1918 862.5,-146.5607 862.5,-133.1581\"/>\n<polygon fill=\"#000000\" stroke=\"#000000\" points=\"866.0001,-133.0033 862.5,-123.0034 859.0001,-133.0034 866.0001,-133.0033\"/>\n<text text-anchor=\"middle\" x=\"885.5\" y=\"-144.8\" font-family=\"Times,serif\" font-size=\"14.00\" fill=\"#000000\">rdf:type</text>\n</g>\n<!-- 9&#45;&gt;4 -->\n<g id=\"edge4\" class=\"edge\">\n<title>9&#45;&gt;4</title>\n<path fill=\"none\" stroke=\"#000000\" d=\"M620.8322,-93.0547C603.2174,-86.4982 581.4355,-77.9048 562.5,-69 544.8172,-60.6843 525.8439,-50.4104 509.748,-41.268\"/>\n<polygon fill=\"#000000\" stroke=\"#000000\" points=\"511.0506,-37.9802 500.635,-36.0392 507.5668,-44.0517 511.0506,-37.9802\"/>\n<text text-anchor=\"middle\" x=\"606.5\" y=\"-57.8\" font-family=\"Times,serif\" font-size=\"14.00\" fill=\"#000000\">gr:hasCurrency</text>\n</g>\n<!-- 9&#45;&gt;6 -->\n<g id=\"edge6\" class=\"edge\">\n<title>9&#45;&gt;6</title>\n<path fill=\"none\" stroke=\"#000000\" d=\"M654.5,-86.9735C654.5,-75.1918 654.5,-59.5607 654.5,-46.1581\"/>\n<polygon fill=\"#000000\" stroke=\"#000000\" points=\"658.0001,-46.0033 654.5,-36.0034 651.0001,-46.0034 658.0001,-46.0033\"/>\n<text text-anchor=\"middle\" x=\"677.5\" y=\"-57.8\" font-family=\"Times,serif\" font-size=\"14.00\" fill=\"#000000\">rdf:type</text>\n</g>\n<!-- 10 -->\n<g id=\"node11\" class=\"node\">\n<title>10</title>\n<polygon fill=\"none\" stroke=\"#000000\" points=\"912,-36 777,-36 777,0 912,0 912,-36\"/>\n<text text-anchor=\"middle\" x=\"844.5\" y=\"-14.3\" font-family=\"Times,serif\" font-size=\"14.00\" fill=\"#000000\">&quot;6800&quot;^^xsd:integer</text>\n</g>\n<!-- 9&#45;&gt;10 -->\n<g id=\"edge10\" class=\"edge\">\n<title>9&#45;&gt;10</title>\n<path fill=\"none\" stroke=\"#000000\" d=\"M684.1875,-91.4063C714.0798,-77.7187 760.6934,-56.3746 795.9672,-40.2229\"/>\n<polygon fill=\"#000000\" stroke=\"#000000\" points=\"797.4969,-43.372 805.1319,-36.0265 794.5826,-37.0075 797.4969,-43.372\"/>\n<text text-anchor=\"middle\" x=\"822\" y=\"-57.8\" font-family=\"Times,serif\" font-size=\"14.00\" fill=\"#000000\">gr:hasCurrencyValue</text>\n</g>\n</g>\n</svg>\n"
          },
          "metadata": {}
        }
      ]
    },
    {
      "cell_type": "code",
      "metadata": {
        "colab": {
          "base_uri": "https://localhost:8080/",
          "height": 428
        },
        "id": "-1uJrwk_wXlX",
        "outputId": "45490a27-ce05-4110-a1e5-31ab3bf1ba9d"
      },
      "source": [
        "%%rdf turtle\n",
        "# Data 2\n",
        "\n",
        "## Namespace\n",
        "@prefix rdfs: <http://www.w3.org/2000/01/rdf-schema#> .\n",
        "@prefix rdf: <http://www.w3.org/1999/02/22-rdf-syntax-ns#> .\n",
        "@prefix xsd: <http://www.w3.org/2001/XMLSchema#> .\n",
        "@prefix dbpedia: <https://dbpedia.org/resource/> .\n",
        "@prefix ex: <http://example.com/> .\n",
        "@prefix gr: <http://www.heppnetz.de/ontologies/goodrelations/v1#> .\n",
        "@prefix schema: <https://schema.org/> .\n",
        "\n",
        "## Class\n",
        "\n",
        "## Properties\n",
        "\n",
        "## Data 2\n",
        "ex:SoundSquare a gr:BusinessEntity .\n",
        "dbpedia:Jakarta a gr:Location .\n",
        "ex:SoundSquare schema:location dbpedia:Jakarta .\n",
        "\n",
        "ex:Harga a gr:UnitPriceSpecification .\n",
        "ex:Harga gr:hasCurrency \"IDR\"^^xsd:string .\n",
        "ex:Harga gr:hasCurrencyValue \"83200\"^^xsd:integer .\n",
        "\n",
        "ex:Headphone a gr:Offering .\n",
        "ex:Headphone gr:name \"TaffSTUDIO Mikrofon Kondenser Studio dengan Shockproof Mount - BM-800\" .\n",
        "ex:Headphone gr:hasPriceSpecification ex:Harga .\n",
        "\n",
        "ex:SoundSquare gr:offers ex:Headphone ."
      ],
      "execution_count": 62,
      "outputs": [
        {
          "output_type": "display_data",
          "data": {
            "text/plain": [
              "<graphviz.dot.Digraph at 0x7f965dc14f10>"
            ],
            "image/svg+xml": "<?xml version=\"1.0\" encoding=\"UTF-8\" standalone=\"no\"?>\n<!DOCTYPE svg PUBLIC \"-//W3C//DTD SVG 1.1//EN\"\n \"http://www.w3.org/Graphics/SVG/1.1/DTD/svg11.dtd\">\n<!-- Generated by graphviz version 2.40.1 (20161225.0304)\n -->\n<!-- Title: %3 Pages: 1 -->\n<svg width=\"977pt\" height=\"305pt\"\n viewBox=\"0.00 0.00 976.64 305.00\" xmlns=\"http://www.w3.org/2000/svg\" xmlns:xlink=\"http://www.w3.org/1999/xlink\">\n<g id=\"graph0\" class=\"graph\" transform=\"scale(1 1) rotate(0) translate(4 301)\">\n<title>%3</title>\n<polygon fill=\"#ffffff\" stroke=\"transparent\" points=\"-4,4 -4,-301 972.6407,-301 972.6407,4 -4,4\"/>\n<!-- 0 -->\n<g id=\"node1\" class=\"node\">\n<title>0</title>\n<ellipse fill=\"none\" stroke=\"#000000\" cx=\"888\" cy=\"-105\" rx=\"53.8905\" ry=\"18\"/>\n<text text-anchor=\"middle\" x=\"888\" y=\"-101.3\" font-family=\"Times,serif\" font-size=\"14.00\" fill=\"#000000\">gr:Location</text>\n</g>\n<!-- 1 -->\n<g id=\"node2\" class=\"node\">\n<title>1</title>\n<ellipse fill=\"none\" stroke=\"#000000\" cx=\"725\" cy=\"-279\" rx=\"72.5877\" ry=\"18\"/>\n<text text-anchor=\"middle\" x=\"725\" y=\"-275.3\" font-family=\"Times,serif\" font-size=\"14.00\" fill=\"#000000\">ex:SoundSquare</text>\n</g>\n<!-- 4 -->\n<g id=\"node5\" class=\"node\">\n<title>4</title>\n<ellipse fill=\"none\" stroke=\"#000000\" cx=\"565\" cy=\"-192\" rx=\"64.9885\" ry=\"18\"/>\n<text text-anchor=\"middle\" x=\"565\" y=\"-188.3\" font-family=\"Times,serif\" font-size=\"14.00\" fill=\"#000000\">ex:Headphone</text>\n</g>\n<!-- 1&#45;&gt;4 -->\n<g id=\"edge7\" class=\"edge\">\n<title>1&#45;&gt;4</title>\n<path fill=\"none\" stroke=\"#000000\" d=\"M694.5286,-262.4312C668.7057,-248.3899 631.5319,-228.1767 603.6256,-213.0027\"/>\n<polygon fill=\"#000000\" stroke=\"#000000\" points=\"605.004,-209.7682 594.5468,-208.0661 601.6601,-215.9179 605.004,-209.7682\"/>\n<text text-anchor=\"middle\" x=\"679.5\" y=\"-231.8\" font-family=\"Times,serif\" font-size=\"14.00\" fill=\"#000000\">gr:offers</text>\n</g>\n<!-- 6 -->\n<g id=\"node7\" class=\"node\">\n<title>6</title>\n<ellipse fill=\"none\" stroke=\"#000000\" cx=\"725\" cy=\"-192\" rx=\"76.8869\" ry=\"18\"/>\n<text text-anchor=\"middle\" x=\"725\" y=\"-188.3\" font-family=\"Times,serif\" font-size=\"14.00\" fill=\"#000000\">gr:BusinessEntity</text>\n</g>\n<!-- 1&#45;&gt;6 -->\n<g id=\"edge1\" class=\"edge\">\n<title>1&#45;&gt;6</title>\n<path fill=\"none\" stroke=\"#000000\" d=\"M725,-260.9735C725,-249.1918 725,-233.5607 725,-220.1581\"/>\n<polygon fill=\"#000000\" stroke=\"#000000\" points=\"728.5001,-220.0033 725,-210.0034 721.5001,-220.0034 728.5001,-220.0033\"/>\n<text text-anchor=\"middle\" x=\"748\" y=\"-231.8\" font-family=\"Times,serif\" font-size=\"14.00\" fill=\"#000000\">rdf:type</text>\n</g>\n<!-- 9 -->\n<g id=\"node10\" class=\"node\">\n<title>9</title>\n<ellipse fill=\"none\" stroke=\"#000000\" cx=\"888\" cy=\"-192\" rx=\"68.4888\" ry=\"18\"/>\n<text text-anchor=\"middle\" x=\"888\" y=\"-188.3\" font-family=\"Times,serif\" font-size=\"14.00\" fill=\"#000000\">dbpedia:Jakarta</text>\n</g>\n<!-- 1&#45;&gt;9 -->\n<g id=\"edge3\" class=\"edge\">\n<title>1&#45;&gt;9</title>\n<path fill=\"none\" stroke=\"#000000\" d=\"M755.6591,-262.636C782.0382,-248.5563 820.2488,-228.1617 848.8375,-212.9027\"/>\n<polygon fill=\"#000000\" stroke=\"#000000\" points=\"850.5802,-215.9399 857.7542,-208.1435 847.2841,-209.7645 850.5802,-215.9399\"/>\n<text text-anchor=\"middle\" x=\"863\" y=\"-231.8\" font-family=\"Times,serif\" font-size=\"14.00\" fill=\"#000000\">schema:location</text>\n</g>\n<!-- 2 -->\n<g id=\"node3\" class=\"node\">\n<title>2</title>\n<polygon fill=\"none\" stroke=\"#000000\" points=\"494,-123 0,-123 0,-87 494,-87 494,-123\"/>\n<text text-anchor=\"middle\" x=\"247\" y=\"-101.3\" font-family=\"Times,serif\" font-size=\"14.00\" fill=\"#000000\">&quot;TaffSTUDIO Mikrofon Kondenser Studio dengan Shockproof Mount &#45; BM&#45;800&quot;</text>\n</g>\n<!-- 3 -->\n<g id=\"node4\" class=\"node\">\n<title>3</title>\n<ellipse fill=\"none\" stroke=\"#000000\" cx=\"565\" cy=\"-105\" rx=\"52.7911\" ry=\"18\"/>\n<text text-anchor=\"middle\" x=\"565\" y=\"-101.3\" font-family=\"Times,serif\" font-size=\"14.00\" fill=\"#000000\">gr:Offering</text>\n</g>\n<!-- 4&#45;&gt;2 -->\n<g id=\"edge4\" class=\"edge\">\n<title>4&#45;&gt;2</title>\n<path fill=\"none\" stroke=\"#000000\" d=\"M518.7601,-179.3495C467.4416,-165.3095 383.8349,-142.436 322.8896,-125.7622\"/>\n<polygon fill=\"#000000\" stroke=\"#000000\" points=\"323.5004,-122.3008 312.9313,-123.0378 321.6532,-129.0527 323.5004,-122.3008\"/>\n<text text-anchor=\"middle\" x=\"449.5\" y=\"-144.8\" font-family=\"Times,serif\" font-size=\"14.00\" fill=\"#000000\">gr:name</text>\n</g>\n<!-- 4&#45;&gt;3 -->\n<g id=\"edge6\" class=\"edge\">\n<title>4&#45;&gt;3</title>\n<path fill=\"none\" stroke=\"#000000\" d=\"M565,-173.9735C565,-162.1918 565,-146.5607 565,-133.1581\"/>\n<polygon fill=\"#000000\" stroke=\"#000000\" points=\"568.5001,-133.0033 565,-123.0034 561.5001,-133.0034 568.5001,-133.0033\"/>\n<text text-anchor=\"middle\" x=\"588\" y=\"-144.8\" font-family=\"Times,serif\" font-size=\"14.00\" fill=\"#000000\">rdf:type</text>\n</g>\n<!-- 10 -->\n<g id=\"node11\" class=\"node\">\n<title>10</title>\n<ellipse fill=\"none\" stroke=\"#000000\" cx=\"680\" cy=\"-105\" rx=\"44.393\" ry=\"18\"/>\n<text text-anchor=\"middle\" x=\"680\" y=\"-101.3\" font-family=\"Times,serif\" font-size=\"14.00\" fill=\"#000000\">ex:Harga</text>\n</g>\n<!-- 4&#45;&gt;10 -->\n<g id=\"edge9\" class=\"edge\">\n<title>4&#45;&gt;10</title>\n<path fill=\"none\" stroke=\"#000000\" d=\"M588.8001,-175.1677C597.1405,-169.1891 606.5357,-162.3635 615,-156 627.2702,-146.7752 640.6414,-136.3499 652.0485,-127.3402\"/>\n<polygon fill=\"#000000\" stroke=\"#000000\" points=\"654.3003,-130.0215 659.9636,-121.0673 649.9525,-124.5354 654.3003,-130.0215\"/>\n<text text-anchor=\"middle\" x=\"703\" y=\"-144.8\" font-family=\"Times,serif\" font-size=\"14.00\" fill=\"#000000\">gr:hasPriceSpecification</text>\n</g>\n<!-- 5 -->\n<g id=\"node6\" class=\"node\">\n<title>5</title>\n<polygon fill=\"none\" stroke=\"#000000\" points=\"600.5,-36 457.5,-36 457.5,0 600.5,0 600.5,-36\"/>\n<text text-anchor=\"middle\" x=\"529\" y=\"-14.3\" font-family=\"Times,serif\" font-size=\"14.00\" fill=\"#000000\">&quot;83200&quot;^^xsd:integer</text>\n</g>\n<!-- 7 -->\n<g id=\"node8\" class=\"node\">\n<title>7</title>\n<polygon fill=\"none\" stroke=\"#000000\" points=\"741.5,-36 618.5,-36 618.5,0 741.5,0 741.5,-36\"/>\n<text text-anchor=\"middle\" x=\"680\" y=\"-14.3\" font-family=\"Times,serif\" font-size=\"14.00\" fill=\"#000000\">&quot;IDR&quot;^^xsd:string</text>\n</g>\n<!-- 8 -->\n<g id=\"node9\" class=\"node\">\n<title>8</title>\n<ellipse fill=\"none\" stroke=\"#000000\" cx=\"864\" cy=\"-18\" rx=\"104.7816\" ry=\"18\"/>\n<text text-anchor=\"middle\" x=\"864\" y=\"-14.3\" font-family=\"Times,serif\" font-size=\"14.00\" fill=\"#000000\">gr:UnitPriceSpecification</text>\n</g>\n<!-- 9&#45;&gt;0 -->\n<g id=\"edge2\" class=\"edge\">\n<title>9&#45;&gt;0</title>\n<path fill=\"none\" stroke=\"#000000\" d=\"M888,-173.9735C888,-162.1918 888,-146.5607 888,-133.1581\"/>\n<polygon fill=\"#000000\" stroke=\"#000000\" points=\"891.5001,-133.0033 888,-123.0034 884.5001,-133.0034 891.5001,-133.0033\"/>\n<text text-anchor=\"middle\" x=\"911\" y=\"-144.8\" font-family=\"Times,serif\" font-size=\"14.00\" fill=\"#000000\">rdf:type</text>\n</g>\n<!-- 10&#45;&gt;5 -->\n<g id=\"edge5\" class=\"edge\">\n<title>10&#45;&gt;5</title>\n<path fill=\"none\" stroke=\"#000000\" d=\"M646.4882,-93.1535C640.0502,-91.0098 633.3392,-88.8654 627,-87 595.3568,-77.6884 580.81,-89.5389 555,-69 547.4288,-62.975 541.8558,-54.1563 537.8563,-45.5403\"/>\n<polygon fill=\"#000000\" stroke=\"#000000\" points=\"541.0058,-43.9946 533.9867,-36.0584 534.5247,-46.6396 541.0058,-43.9946\"/>\n<text text-anchor=\"middle\" x=\"615.5\" y=\"-57.8\" font-family=\"Times,serif\" font-size=\"14.00\" fill=\"#000000\">gr:hasCurrencyValue</text>\n</g>\n<!-- 10&#45;&gt;7 -->\n<g id=\"edge8\" class=\"edge\">\n<title>10&#45;&gt;7</title>\n<path fill=\"none\" stroke=\"#000000\" d=\"M680,-86.9735C680,-75.1918 680,-59.5607 680,-46.1581\"/>\n<polygon fill=\"#000000\" stroke=\"#000000\" points=\"683.5001,-46.0033 680,-36.0034 676.5001,-46.0034 683.5001,-46.0033\"/>\n<text text-anchor=\"middle\" x=\"724\" y=\"-57.8\" font-family=\"Times,serif\" font-size=\"14.00\" fill=\"#000000\">gr:hasCurrency</text>\n</g>\n<!-- 10&#45;&gt;8 -->\n<g id=\"edge10\" class=\"edge\">\n<title>10&#45;&gt;8</title>\n<path fill=\"none\" stroke=\"#000000\" d=\"M713.6678,-93.0547C731.2826,-86.4982 753.0645,-77.9048 772,-69 790.2664,-60.4099 809.9099,-49.7302 826.336,-40.3666\"/>\n<polygon fill=\"#000000\" stroke=\"#000000\" points=\"828.1804,-43.3435 835.1015,-35.3217 824.6886,-37.2766 828.1804,-43.3435\"/>\n<text text-anchor=\"middle\" x=\"824\" y=\"-57.8\" font-family=\"Times,serif\" font-size=\"14.00\" fill=\"#000000\">rdf:type</text>\n</g>\n</g>\n</svg>\n"
          },
          "metadata": {}
        }
      ]
    },
    {
      "cell_type": "code",
      "metadata": {
        "colab": {
          "base_uri": "https://localhost:8080/",
          "height": 428
        },
        "id": "YQ-o3Ja6wru3",
        "outputId": "a644564f-4bd7-4702-b094-06e41fd1eb4c"
      },
      "source": [
        "%%rdf turtle\n",
        "# Data 3\n",
        "\n",
        "## Namespace\n",
        "@prefix rdfs: <http://www.w3.org/2000/01/rdf-schema#> .\n",
        "@prefix rdf: <http://www.w3.org/1999/02/22-rdf-syntax-ns#> .\n",
        "@prefix xsd: <http://www.w3.org/2001/XMLSchema#> .\n",
        "@prefix dbpedia: <https://dbpedia.org/resource/> .\n",
        "@prefix ex: <http://example.com/> .\n",
        "@prefix gr: <http://www.heppnetz.de/ontologies/goodrelations/v1#> .\n",
        "@prefix schema: <https://schema.org/> .\n",
        "\n",
        "## Class\n",
        "\n",
        "## Properties\n",
        "\n",
        "## Data 1\n",
        "ex:Computindo a gr:BusinessEntity .\n",
        "dbpedia:Jakarta a gr:Location .\n",
        "ex:Computindo schema:location dbpedia:Jakarta .\n",
        "\n",
        "ex:Harga a gr:UnitPriceSpecification .\n",
        "ex:Harga gr:hasCurrency \"IDR\"^^xsd:string .\n",
        "ex:Harga gr:hasCurrencyValue \"459100\"^^xsd:integer .\n",
        "\n",
        "ex:Headphone a gr:Offering .\n",
        "ex:Headphone gr:name \"Zjiang Printer Resep Thermal Bluetooth - ZJ-5802DD\" .\n",
        "ex:Headphone gr:hasPriceSpecification ex:Harga .\n",
        "\n",
        "ex:Computindo gr:offers ex:Headphone ."
      ],
      "execution_count": 63,
      "outputs": [
        {
          "output_type": "display_data",
          "data": {
            "text/plain": [
              "<graphviz.dot.Digraph at 0x7f965dc14d90>"
            ],
            "image/svg+xml": "<?xml version=\"1.0\" encoding=\"UTF-8\" standalone=\"no\"?>\n<!DOCTYPE svg PUBLIC \"-//W3C//DTD SVG 1.1//EN\"\n \"http://www.w3.org/Graphics/SVG/1.1/DTD/svg11.dtd\">\n<!-- Generated by graphviz version 2.40.1 (20161225.0304)\n -->\n<!-- Title: %3 Pages: 1 -->\n<svg width=\"823pt\" height=\"305pt\"\n viewBox=\"0.00 0.00 823.29 305.00\" xmlns=\"http://www.w3.org/2000/svg\" xmlns:xlink=\"http://www.w3.org/1999/xlink\">\n<g id=\"graph0\" class=\"graph\" transform=\"scale(1 1) rotate(0) translate(4 301)\">\n<title>%3</title>\n<polygon fill=\"#ffffff\" stroke=\"transparent\" points=\"-4,4 -4,-301 819.286,-301 819.286,4 -4,4\"/>\n<!-- 0 -->\n<g id=\"node1\" class=\"node\">\n<title>0</title>\n<ellipse fill=\"none\" stroke=\"#000000\" cx=\"642.6453\" cy=\"-105\" rx=\"53.8905\" ry=\"18\"/>\n<text text-anchor=\"middle\" x=\"642.6453\" y=\"-101.3\" font-family=\"Times,serif\" font-size=\"14.00\" fill=\"#000000\">gr:Location</text>\n</g>\n<!-- 1 -->\n<g id=\"node2\" class=\"node\">\n<title>1</title>\n<polygon fill=\"none\" stroke=\"#000000\" points=\"446.6453,-36 296.6453,-36 296.6453,0 446.6453,0 446.6453,-36\"/>\n<text text-anchor=\"middle\" x=\"371.6453\" y=\"-14.3\" font-family=\"Times,serif\" font-size=\"14.00\" fill=\"#000000\">&quot;459100&quot;^^xsd:integer</text>\n</g>\n<!-- 2 -->\n<g id=\"node3\" class=\"node\">\n<title>2</title>\n<ellipse fill=\"none\" stroke=\"#000000\" cx=\"470.6453\" cy=\"-279\" rx=\"69.5877\" ry=\"18\"/>\n<text text-anchor=\"middle\" x=\"470.6453\" y=\"-275.3\" font-family=\"Times,serif\" font-size=\"14.00\" fill=\"#000000\">ex:Computindo</text>\n</g>\n<!-- 5 -->\n<g id=\"node6\" class=\"node\">\n<title>5</title>\n<ellipse fill=\"none\" stroke=\"#000000\" cx=\"297.6453\" cy=\"-192\" rx=\"64.9885\" ry=\"18\"/>\n<text text-anchor=\"middle\" x=\"297.6453\" y=\"-188.3\" font-family=\"Times,serif\" font-size=\"14.00\" fill=\"#000000\">ex:Headphone</text>\n</g>\n<!-- 2&#45;&gt;5 -->\n<g id=\"edge5\" class=\"edge\">\n<title>2&#45;&gt;5</title>\n<path fill=\"none\" stroke=\"#000000\" d=\"M438.5108,-262.8399C410.1733,-248.5892 368.745,-227.7553 338.1464,-212.3676\"/>\n<polygon fill=\"#000000\" stroke=\"#000000\" points=\"339.5309,-209.1462 329.0245,-207.7803 336.3859,-215.4 339.5309,-209.1462\"/>\n<text text-anchor=\"middle\" x=\"419.1453\" y=\"-231.8\" font-family=\"Times,serif\" font-size=\"14.00\" fill=\"#000000\">gr:offers</text>\n</g>\n<!-- 6 -->\n<g id=\"node7\" class=\"node\">\n<title>6</title>\n<ellipse fill=\"none\" stroke=\"#000000\" cx=\"470.6453\" cy=\"-192\" rx=\"76.8869\" ry=\"18\"/>\n<text text-anchor=\"middle\" x=\"470.6453\" y=\"-188.3\" font-family=\"Times,serif\" font-size=\"14.00\" fill=\"#000000\">gr:BusinessEntity</text>\n</g>\n<!-- 2&#45;&gt;6 -->\n<g id=\"edge9\" class=\"edge\">\n<title>2&#45;&gt;6</title>\n<path fill=\"none\" stroke=\"#000000\" d=\"M470.6453,-260.9735C470.6453,-249.1918 470.6453,-233.5607 470.6453,-220.1581\"/>\n<polygon fill=\"#000000\" stroke=\"#000000\" points=\"474.1454,-220.0033 470.6453,-210.0034 467.1454,-220.0034 474.1454,-220.0033\"/>\n<text text-anchor=\"middle\" x=\"493.6453\" y=\"-231.8\" font-family=\"Times,serif\" font-size=\"14.00\" fill=\"#000000\">rdf:type</text>\n</g>\n<!-- 9 -->\n<g id=\"node10\" class=\"node\">\n<title>9</title>\n<ellipse fill=\"none\" stroke=\"#000000\" cx=\"639.6453\" cy=\"-192\" rx=\"68.4888\" ry=\"18\"/>\n<text text-anchor=\"middle\" x=\"639.6453\" y=\"-188.3\" font-family=\"Times,serif\" font-size=\"14.00\" fill=\"#000000\">dbpedia:Jakarta</text>\n</g>\n<!-- 2&#45;&gt;9 -->\n<g id=\"edge4\" class=\"edge\">\n<title>2&#45;&gt;9</title>\n<path fill=\"none\" stroke=\"#000000\" d=\"M502.0369,-262.8399C529.5461,-248.6783 569.6842,-228.0155 599.519,-212.6567\"/>\n<polygon fill=\"#000000\" stroke=\"#000000\" points=\"601.1328,-215.7626 608.4219,-208.0736 597.9289,-209.5388 601.1328,-215.7626\"/>\n<text text-anchor=\"middle\" x=\"611.6453\" y=\"-231.8\" font-family=\"Times,serif\" font-size=\"14.00\" fill=\"#000000\">schema:location</text>\n</g>\n<!-- 3 -->\n<g id=\"node4\" class=\"node\">\n<title>3</title>\n<ellipse fill=\"none\" stroke=\"#000000\" cx=\"52.6453\" cy=\"-105\" rx=\"52.7911\" ry=\"18\"/>\n<text text-anchor=\"middle\" x=\"52.6453\" y=\"-101.3\" font-family=\"Times,serif\" font-size=\"14.00\" fill=\"#000000\">gr:Offering</text>\n</g>\n<!-- 4 -->\n<g id=\"node5\" class=\"node\">\n<title>4</title>\n<polygon fill=\"none\" stroke=\"#000000\" points=\"588.1453,-36 465.1453,-36 465.1453,0 588.1453,0 588.1453,-36\"/>\n<text text-anchor=\"middle\" x=\"526.6453\" y=\"-14.3\" font-family=\"Times,serif\" font-size=\"14.00\" fill=\"#000000\">&quot;IDR&quot;^^xsd:string</text>\n</g>\n<!-- 5&#45;&gt;3 -->\n<g id=\"edge1\" class=\"edge\">\n<title>5&#45;&gt;3</title>\n<path fill=\"none\" stroke=\"#000000\" d=\"M257.4629,-177.7311C213.956,-162.2817 144.6658,-137.6767 98.9166,-121.431\"/>\n<polygon fill=\"#000000\" stroke=\"#000000\" points=\"99.8404,-118.045 89.2457,-117.9969 97.498,-124.6415 99.8404,-118.045\"/>\n<text text-anchor=\"middle\" x=\"213.6453\" y=\"-144.8\" font-family=\"Times,serif\" font-size=\"14.00\" fill=\"#000000\">rdf:type</text>\n</g>\n<!-- 8 -->\n<g id=\"node9\" class=\"node\">\n<title>8</title>\n<polygon fill=\"none\" stroke=\"#000000\" points=\"464.1453,-123 123.1453,-123 123.1453,-87 464.1453,-87 464.1453,-123\"/>\n<text text-anchor=\"middle\" x=\"293.6453\" y=\"-101.3\" font-family=\"Times,serif\" font-size=\"14.00\" fill=\"#000000\">&quot;Zjiang Printer Resep Thermal Bluetooth &#45; ZJ&#45;5802DD&quot;</text>\n</g>\n<!-- 5&#45;&gt;8 -->\n<g id=\"edge10\" class=\"edge\">\n<title>5&#45;&gt;8</title>\n<path fill=\"none\" stroke=\"#000000\" d=\"M296.8165,-173.9735C296.2748,-162.1918 295.5562,-146.5607 294.94,-133.1581\"/>\n<polygon fill=\"#000000\" stroke=\"#000000\" points=\"298.4288,-132.832 294.4731,-123.0034 291.4361,-133.1536 298.4288,-132.832\"/>\n<text text-anchor=\"middle\" x=\"320.1453\" y=\"-144.8\" font-family=\"Times,serif\" font-size=\"14.00\" fill=\"#000000\">gr:name</text>\n</g>\n<!-- 10 -->\n<g id=\"node11\" class=\"node\">\n<title>10</title>\n<ellipse fill=\"none\" stroke=\"#000000\" cx=\"526.6453\" cy=\"-105\" rx=\"44.393\" ry=\"18\"/>\n<text text-anchor=\"middle\" x=\"526.6453\" y=\"-101.3\" font-family=\"Times,serif\" font-size=\"14.00\" fill=\"#000000\">ex:Harga</text>\n</g>\n<!-- 5&#45;&gt;10 -->\n<g id=\"edge3\" class=\"edge\">\n<title>5&#45;&gt;10</title>\n<path fill=\"none\" stroke=\"#000000\" d=\"M335.9748,-177.4382C377.082,-161.821 442.1614,-137.0965 484.6356,-120.96\"/>\n<polygon fill=\"#000000\" stroke=\"#000000\" points=\"486.0226,-124.1772 494.1277,-117.3538 483.5366,-117.6335 486.0226,-124.1772\"/>\n<text text-anchor=\"middle\" x=\"495.6453\" y=\"-144.8\" font-family=\"Times,serif\" font-size=\"14.00\" fill=\"#000000\">gr:hasPriceSpecification</text>\n</g>\n<!-- 7 -->\n<g id=\"node8\" class=\"node\">\n<title>7</title>\n<ellipse fill=\"none\" stroke=\"#000000\" cx=\"710.6453\" cy=\"-18\" rx=\"104.7816\" ry=\"18\"/>\n<text text-anchor=\"middle\" x=\"710.6453\" y=\"-14.3\" font-family=\"Times,serif\" font-size=\"14.00\" fill=\"#000000\">gr:UnitPriceSpecification</text>\n</g>\n<!-- 9&#45;&gt;0 -->\n<g id=\"edge6\" class=\"edge\">\n<title>9&#45;&gt;0</title>\n<path fill=\"none\" stroke=\"#000000\" d=\"M640.2669,-173.9735C640.6732,-162.1918 641.2122,-146.5607 641.6744,-133.1581\"/>\n<polygon fill=\"#000000\" stroke=\"#000000\" points=\"645.1777,-133.1181 642.0245,-123.0034 638.1819,-132.8768 645.1777,-133.1181\"/>\n<text text-anchor=\"middle\" x=\"664.6453\" y=\"-144.8\" font-family=\"Times,serif\" font-size=\"14.00\" fill=\"#000000\">rdf:type</text>\n</g>\n<!-- 10&#45;&gt;1 -->\n<g id=\"edge8\" class=\"edge\">\n<title>10&#45;&gt;1</title>\n<path fill=\"none\" stroke=\"#000000\" d=\"M492.7741,-93.2871C486.128,-91.1086 479.1889,-88.9172 472.6453,-87 441.4048,-77.8466 427.6849,-88.537 401.6453,-69 393.5594,-62.9333 387.2571,-53.9948 382.5619,-45.2887\"/>\n<polygon fill=\"#000000\" stroke=\"#000000\" points=\"385.6066,-43.5461 378.0895,-36.0798 379.3099,-46.6041 385.6066,-43.5461\"/>\n<text text-anchor=\"middle\" x=\"462.1453\" y=\"-57.8\" font-family=\"Times,serif\" font-size=\"14.00\" fill=\"#000000\">gr:hasCurrencyValue</text>\n</g>\n<!-- 10&#45;&gt;4 -->\n<g id=\"edge2\" class=\"edge\">\n<title>10&#45;&gt;4</title>\n<path fill=\"none\" stroke=\"#000000\" d=\"M526.6453,-86.9735C526.6453,-75.1918 526.6453,-59.5607 526.6453,-46.1581\"/>\n<polygon fill=\"#000000\" stroke=\"#000000\" points=\"530.1454,-46.0033 526.6453,-36.0034 523.1454,-46.0034 530.1454,-46.0033\"/>\n<text text-anchor=\"middle\" x=\"570.6453\" y=\"-57.8\" font-family=\"Times,serif\" font-size=\"14.00\" fill=\"#000000\">gr:hasCurrency</text>\n</g>\n<!-- 10&#45;&gt;7 -->\n<g id=\"edge7\" class=\"edge\">\n<title>10&#45;&gt;7</title>\n<path fill=\"none\" stroke=\"#000000\" d=\"M560.3131,-93.0547C577.9279,-86.4982 599.7098,-77.9048 618.6453,-69 636.9117,-60.4099 656.5552,-49.7302 672.9814,-40.3666\"/>\n<polygon fill=\"#000000\" stroke=\"#000000\" points=\"674.8257,-43.3435 681.7468,-35.3217 671.3339,-37.2766 674.8257,-43.3435\"/>\n<text text-anchor=\"middle\" x=\"670.6453\" y=\"-57.8\" font-family=\"Times,serif\" font-size=\"14.00\" fill=\"#000000\">rdf:type</text>\n</g>\n</g>\n</svg>\n"
          },
          "metadata": {}
        }
      ]
    },
    {
      "cell_type": "markdown",
      "metadata": {
        "id": "T-Q0TQkEoKdi"
      },
      "source": [
        "## Linked Data\n",
        "\n",
        "Berikut adalah ketiga instances dengan linked data ke data lain."
      ]
    },
    {
      "cell_type": "code",
      "metadata": {
        "colab": {
          "base_uri": "https://localhost:8080/",
          "height": 428
        },
        "id": "vg30sc9koUNT",
        "outputId": "07d6ea3e-5077-49f7-b982-4fd368efc88a"
      },
      "source": [
        "%%rdf turtle\n",
        "# Data 1\n",
        "\n",
        "## Namespace\n",
        "@prefix rdfs: <http://www.w3.org/2000/01/rdf-schema#> .\n",
        "@prefix rdf: <http://www.w3.org/1999/02/22-rdf-syntax-ns#> .\n",
        "@prefix xsd: <http://www.w3.org/2001/XMLSchema#> .\n",
        "@prefix dbpedia: <https://dbpedia.org/resource/> .\n",
        "@prefix ex: <http://example.com/> .\n",
        "@prefix gr: <http://www.heppnetz.de/ontologies/goodrelations/v1#> .\n",
        "@prefix schema: <https://schema.org/> .\n",
        "\n",
        "## Class\n",
        "\n",
        "## Properties\n",
        "\n",
        "## Data 1\n",
        "ex:GudangGrosir a gr:BusinessEntity .\n",
        "dbpedia:Jakarta a gr:Location .\n",
        "ex:GudangGrosir schema:location dbpedia:Jakarta .\n",
        "\n",
        "ex:Harga a gr:UnitPriceSpecification .\n",
        "ex:Harga gr:hasCurrency \"IDR\"^^xsd:string .\n",
        "ex:Harga gr:hasCurrencyValue \"6800\"^^xsd:integer .\n",
        "ex:Harga rdfs:seeAlso dbpedia:Indonesian_rupiah .\n",
        "\n",
        "ex:Headphone a gr:Offering .\n",
        "ex:Headphone gr:name \"TaffSTUDIO Splitter Audio Shape U 3.5mm ke Headphone & Mic - K0650\" .\n",
        "ex:Headphone gr:hasPriceSpecification ex:Harga .\n",
        "\n",
        "ex:GudangGrosir gr:offers ex:Headphone ."
      ],
      "execution_count": 64,
      "outputs": [
        {
          "output_type": "display_data",
          "data": {
            "text/plain": [
              "<graphviz.dot.Digraph at 0x7f965dc5cc90>"
            ],
            "image/svg+xml": "<?xml version=\"1.0\" encoding=\"UTF-8\" standalone=\"no\"?>\n<!DOCTYPE svg PUBLIC \"-//W3C//DTD SVG 1.1//EN\"\n \"http://www.w3.org/Graphics/SVG/1.1/DTD/svg11.dtd\">\n<!-- Generated by graphviz version 2.40.1 (20161225.0304)\n -->\n<!-- Title: %3 Pages: 1 -->\n<svg width=\"1012pt\" height=\"305pt\"\n viewBox=\"0.00 0.00 1012.00 305.00\" xmlns=\"http://www.w3.org/2000/svg\" xmlns:xlink=\"http://www.w3.org/1999/xlink\">\n<g id=\"graph0\" class=\"graph\" transform=\"scale(1 1) rotate(0) translate(4 301)\">\n<title>%3</title>\n<polygon fill=\"#ffffff\" stroke=\"transparent\" points=\"-4,4 -4,-301 1008,-301 1008,4 -4,4\"/>\n<!-- 0 -->\n<g id=\"node1\" class=\"node\">\n<title>0</title>\n<ellipse fill=\"none\" stroke=\"#000000\" cx=\"370.5\" cy=\"-18\" rx=\"112.3801\" ry=\"18\"/>\n<text text-anchor=\"middle\" x=\"370.5\" y=\"-14.3\" font-family=\"Times,serif\" font-size=\"14.00\" fill=\"#000000\">dbpedia:Indonesian_rupiah</text>\n</g>\n<!-- 1 -->\n<g id=\"node2\" class=\"node\">\n<title>1</title>\n<ellipse fill=\"none\" stroke=\"#000000\" cx=\"862.5\" cy=\"-105\" rx=\"53.8905\" ry=\"18\"/>\n<text text-anchor=\"middle\" x=\"862.5\" y=\"-101.3\" font-family=\"Times,serif\" font-size=\"14.00\" fill=\"#000000\">gr:Location</text>\n</g>\n<!-- 2 -->\n<g id=\"node3\" class=\"node\">\n<title>2</title>\n<polygon fill=\"none\" stroke=\"#000000\" points=\"469,-123 0,-123 0,-87 469,-87 469,-123\"/>\n<text text-anchor=\"middle\" x=\"234.5\" y=\"-101.3\" font-family=\"Times,serif\" font-size=\"14.00\" fill=\"#000000\">&quot;TaffSTUDIO Splitter Audio Shape U 3.5mm ke Headphone &amp; Mic &#45; K0650&quot;</text>\n</g>\n<!-- 3 -->\n<g id=\"node4\" class=\"node\">\n<title>3</title>\n<ellipse fill=\"none\" stroke=\"#000000\" cx=\"539.5\" cy=\"-105\" rx=\"52.7911\" ry=\"18\"/>\n<text text-anchor=\"middle\" x=\"539.5\" y=\"-101.3\" font-family=\"Times,serif\" font-size=\"14.00\" fill=\"#000000\">gr:Offering</text>\n</g>\n<!-- 4 -->\n<g id=\"node5\" class=\"node\">\n<title>4</title>\n<ellipse fill=\"none\" stroke=\"#000000\" cx=\"539.5\" cy=\"-192\" rx=\"64.9885\" ry=\"18\"/>\n<text text-anchor=\"middle\" x=\"539.5\" y=\"-188.3\" font-family=\"Times,serif\" font-size=\"14.00\" fill=\"#000000\">ex:Headphone</text>\n</g>\n<!-- 4&#45;&gt;2 -->\n<g id=\"edge2\" class=\"edge\">\n<title>4&#45;&gt;2</title>\n<path fill=\"none\" stroke=\"#000000\" d=\"M494.1678,-179.0692C444.9892,-165.0412 365.7447,-142.437 307.7161,-125.8846\"/>\n<polygon fill=\"#000000\" stroke=\"#000000\" points=\"308.4445,-122.4528 297.868,-123.0755 306.5243,-129.1843 308.4445,-122.4528\"/>\n<text text-anchor=\"middle\" x=\"429\" y=\"-144.8\" font-family=\"Times,serif\" font-size=\"14.00\" fill=\"#000000\">gr:name</text>\n</g>\n<!-- 4&#45;&gt;3 -->\n<g id=\"edge5\" class=\"edge\">\n<title>4&#45;&gt;3</title>\n<path fill=\"none\" stroke=\"#000000\" d=\"M539.5,-173.9735C539.5,-162.1918 539.5,-146.5607 539.5,-133.1581\"/>\n<polygon fill=\"#000000\" stroke=\"#000000\" points=\"543.0001,-133.0033 539.5,-123.0034 536.0001,-133.0034 543.0001,-133.0033\"/>\n<text text-anchor=\"middle\" x=\"562.5\" y=\"-144.8\" font-family=\"Times,serif\" font-size=\"14.00\" fill=\"#000000\">rdf:type</text>\n</g>\n<!-- 10 -->\n<g id=\"node11\" class=\"node\">\n<title>10</title>\n<ellipse fill=\"none\" stroke=\"#000000\" cx=\"654.5\" cy=\"-105\" rx=\"44.393\" ry=\"18\"/>\n<text text-anchor=\"middle\" x=\"654.5\" y=\"-101.3\" font-family=\"Times,serif\" font-size=\"14.00\" fill=\"#000000\">ex:Harga</text>\n</g>\n<!-- 4&#45;&gt;10 -->\n<g id=\"edge7\" class=\"edge\">\n<title>4&#45;&gt;10</title>\n<path fill=\"none\" stroke=\"#000000\" d=\"M563.3001,-175.1677C571.6405,-169.1891 581.0357,-162.3635 589.5,-156 601.7702,-146.7752 615.1414,-136.3499 626.5485,-127.3402\"/>\n<polygon fill=\"#000000\" stroke=\"#000000\" points=\"628.8003,-130.0215 634.4636,-121.0673 624.4525,-124.5354 628.8003,-130.0215\"/>\n<text text-anchor=\"middle\" x=\"677.5\" y=\"-144.8\" font-family=\"Times,serif\" font-size=\"14.00\" fill=\"#000000\">gr:hasPriceSpecification</text>\n</g>\n<!-- 5 -->\n<g id=\"node6\" class=\"node\">\n<title>5</title>\n<polygon fill=\"none\" stroke=\"#000000\" points=\"624,-36 501,-36 501,0 624,0 624,-36\"/>\n<text text-anchor=\"middle\" x=\"562.5\" y=\"-14.3\" font-family=\"Times,serif\" font-size=\"14.00\" fill=\"#000000\">&quot;IDR&quot;^^xsd:string</text>\n</g>\n<!-- 6 -->\n<g id=\"node7\" class=\"node\">\n<title>6</title>\n<ellipse fill=\"none\" stroke=\"#000000\" cx=\"699.5\" cy=\"-192\" rx=\"76.8869\" ry=\"18\"/>\n<text text-anchor=\"middle\" x=\"699.5\" y=\"-188.3\" font-family=\"Times,serif\" font-size=\"14.00\" fill=\"#000000\">gr:BusinessEntity</text>\n</g>\n<!-- 7 -->\n<g id=\"node8\" class=\"node\">\n<title>7</title>\n<ellipse fill=\"none\" stroke=\"#000000\" cx=\"746.5\" cy=\"-18\" rx=\"104.7816\" ry=\"18\"/>\n<text text-anchor=\"middle\" x=\"746.5\" y=\"-14.3\" font-family=\"Times,serif\" font-size=\"14.00\" fill=\"#000000\">gr:UnitPriceSpecification</text>\n</g>\n<!-- 8 -->\n<g id=\"node9\" class=\"node\">\n<title>8</title>\n<ellipse fill=\"none\" stroke=\"#000000\" cx=\"699.5\" cy=\"-279\" rx=\"75.2868\" ry=\"18\"/>\n<text text-anchor=\"middle\" x=\"699.5\" y=\"-275.3\" font-family=\"Times,serif\" font-size=\"14.00\" fill=\"#000000\">ex:GudangGrosir</text>\n</g>\n<!-- 8&#45;&gt;4 -->\n<g id=\"edge8\" class=\"edge\">\n<title>8&#45;&gt;4</title>\n<path fill=\"none\" stroke=\"#000000\" d=\"M669.0286,-262.4312C643.2057,-248.3899 606.0319,-228.1767 578.1256,-213.0027\"/>\n<polygon fill=\"#000000\" stroke=\"#000000\" points=\"579.504,-209.7682 569.0468,-208.0661 576.1601,-215.9179 579.504,-209.7682\"/>\n<text text-anchor=\"middle\" x=\"654\" y=\"-231.8\" font-family=\"Times,serif\" font-size=\"14.00\" fill=\"#000000\">gr:offers</text>\n</g>\n<!-- 8&#45;&gt;6 -->\n<g id=\"edge11\" class=\"edge\">\n<title>8&#45;&gt;6</title>\n<path fill=\"none\" stroke=\"#000000\" d=\"M699.5,-260.9735C699.5,-249.1918 699.5,-233.5607 699.5,-220.1581\"/>\n<polygon fill=\"#000000\" stroke=\"#000000\" points=\"703.0001,-220.0033 699.5,-210.0034 696.0001,-220.0034 703.0001,-220.0033\"/>\n<text text-anchor=\"middle\" x=\"722.5\" y=\"-231.8\" font-family=\"Times,serif\" font-size=\"14.00\" fill=\"#000000\">rdf:type</text>\n</g>\n<!-- 9 -->\n<g id=\"node10\" class=\"node\">\n<title>9</title>\n<ellipse fill=\"none\" stroke=\"#000000\" cx=\"862.5\" cy=\"-192\" rx=\"68.4888\" ry=\"18\"/>\n<text text-anchor=\"middle\" x=\"862.5\" y=\"-188.3\" font-family=\"Times,serif\" font-size=\"14.00\" fill=\"#000000\">dbpedia:Jakarta</text>\n</g>\n<!-- 8&#45;&gt;9 -->\n<g id=\"edge3\" class=\"edge\">\n<title>8&#45;&gt;9</title>\n<path fill=\"none\" stroke=\"#000000\" d=\"M730.5427,-262.4312C756.8809,-248.3734 794.81,-228.129 823.2507,-212.949\"/>\n<polygon fill=\"#000000\" stroke=\"#000000\" points=\"824.9506,-216.0091 832.1246,-208.2126 821.6545,-209.8337 824.9506,-216.0091\"/>\n<text text-anchor=\"middle\" x=\"837.5\" y=\"-231.8\" font-family=\"Times,serif\" font-size=\"14.00\" fill=\"#000000\">schema:location</text>\n</g>\n<!-- 9&#45;&gt;1 -->\n<g id=\"edge9\" class=\"edge\">\n<title>9&#45;&gt;1</title>\n<path fill=\"none\" stroke=\"#000000\" d=\"M862.5,-173.9735C862.5,-162.1918 862.5,-146.5607 862.5,-133.1581\"/>\n<polygon fill=\"#000000\" stroke=\"#000000\" points=\"866.0001,-133.0033 862.5,-123.0034 859.0001,-133.0034 866.0001,-133.0033\"/>\n<text text-anchor=\"middle\" x=\"885.5\" y=\"-144.8\" font-family=\"Times,serif\" font-size=\"14.00\" fill=\"#000000\">rdf:type</text>\n</g>\n<!-- 10&#45;&gt;0 -->\n<g id=\"edge4\" class=\"edge\">\n<title>10&#45;&gt;0</title>\n<path fill=\"none\" stroke=\"#000000\" d=\"M621.3253,-93.0607C614.7963,-90.902 607.9657,-88.7758 601.5,-87 564.2634,-76.7729 553.692,-79.3883 516.5,-69 485.0404,-60.2129 450.5096,-48.2599 422.9311,-38.1344\"/>\n<polygon fill=\"#000000\" stroke=\"#000000\" points=\"424.0758,-34.8261 413.4826,-34.6373 421.646,-41.3908 424.0758,-34.8261\"/>\n<text text-anchor=\"middle\" x=\"551.5\" y=\"-57.8\" font-family=\"Times,serif\" font-size=\"14.00\" fill=\"#000000\">rdfs:seeAlso</text>\n</g>\n<!-- 10&#45;&gt;5 -->\n<g id=\"edge10\" class=\"edge\">\n<title>10&#45;&gt;5</title>\n<path fill=\"none\" stroke=\"#000000\" d=\"M630.0843,-89.8081C621.29,-83.8214 611.5571,-76.5689 603.5,-69 595.5511,-61.5328 587.7983,-52.4941 581.2122,-44.1126\"/>\n<polygon fill=\"#000000\" stroke=\"#000000\" points=\"583.8979,-41.8624 575.0511,-36.0328 578.3316,-46.107 583.8979,-41.8624\"/>\n<text text-anchor=\"middle\" x=\"647.5\" y=\"-57.8\" font-family=\"Times,serif\" font-size=\"14.00\" fill=\"#000000\">gr:hasCurrency</text>\n</g>\n<!-- 10&#45;&gt;7 -->\n<g id=\"edge6\" class=\"edge\">\n<title>10&#45;&gt;7</title>\n<path fill=\"none\" stroke=\"#000000\" d=\"M672.2385,-88.2255C685.7557,-75.443 704.5886,-57.6336 719.9062,-43.1485\"/>\n<polygon fill=\"#000000\" stroke=\"#000000\" points=\"722.6881,-45.3349 727.5491,-35.921 717.8785,-40.2488 722.6881,-45.3349\"/>\n<text text-anchor=\"middle\" x=\"729.5\" y=\"-57.8\" font-family=\"Times,serif\" font-size=\"14.00\" fill=\"#000000\">rdf:type</text>\n</g>\n<!-- 11 -->\n<g id=\"node12\" class=\"node\">\n<title>11</title>\n<polygon fill=\"none\" stroke=\"#000000\" points=\"1004,-36 869,-36 869,0 1004,0 1004,-36\"/>\n<text text-anchor=\"middle\" x=\"936.5\" y=\"-14.3\" font-family=\"Times,serif\" font-size=\"14.00\" fill=\"#000000\">&quot;6800&quot;^^xsd:integer</text>\n</g>\n<!-- 10&#45;&gt;11 -->\n<g id=\"edge1\" class=\"edge\">\n<title>10&#45;&gt;11</title>\n<path fill=\"none\" stroke=\"#000000\" d=\"M689.93,-94.0695C734.4463,-80.3357 811.8128,-56.4673 868.035,-39.1222\"/>\n<polygon fill=\"#000000\" stroke=\"#000000\" points=\"869.3979,-42.3646 877.9216,-36.0721 867.3342,-35.6757 869.3979,-42.3646\"/>\n<text text-anchor=\"middle\" x=\"873\" y=\"-57.8\" font-family=\"Times,serif\" font-size=\"14.00\" fill=\"#000000\">gr:hasCurrencyValue</text>\n</g>\n</g>\n</svg>\n"
          },
          "metadata": {}
        }
      ]
    },
    {
      "cell_type": "code",
      "metadata": {
        "colab": {
          "base_uri": "https://localhost:8080/",
          "height": 448
        },
        "id": "UIpXLWV2o_mh",
        "outputId": "73eb2c1a-f30e-4987-94fe-fad087a3f32c"
      },
      "source": [
        "%%rdf turtle\n",
        "# Data 2\n",
        "\n",
        "## Namespace\n",
        "@prefix rdfs: <http://www.w3.org/2000/01/rdf-schema#> .\n",
        "@prefix rdf: <http://www.w3.org/1999/02/22-rdf-syntax-ns#> .\n",
        "@prefix xsd: <http://www.w3.org/2001/XMLSchema#> .\n",
        "@prefix dbpedia: <https://dbpedia.org/resource/> .\n",
        "@prefix ex: <http://example.com/> .\n",
        "@prefix gr: <http://www.heppnetz.de/ontologies/goodrelations/v1#> .\n",
        "@prefix schema: <https://schema.org/> .\n",
        "@prefix foaf: <http://xmlns.com/foaf/0.1/> .\n",
        "\n",
        "## Class\n",
        "\n",
        "## Properties\n",
        "\n",
        "## Data 2\n",
        "ex:SoundSquare a gr:BusinessEntity .\n",
        "dbpedia:Jakarta a gr:Location .\n",
        "ex:SoundSquare schema:location dbpedia:Jakarta .\n",
        "\n",
        "ex:Harga a gr:UnitPriceSpecification .\n",
        "ex:Harga gr:hasCurrency \"IDR\"^^xsd:string .\n",
        "ex:Harga gr:hasCurrencyValue \"83200\"^^xsd:integer .\n",
        "ex:Harga rdfs:seeAlso dbpedia:Indonesian_rupiah .\n",
        "\n",
        "ex:Headphone a gr:Offering .\n",
        "ex:Headphone gr:name \"TaffSTUDIO Mikrofon Kondenser Studio dengan Shockproof Mount - BM-800\" .\n",
        "ex:Headphone gr:hasPriceSpecification ex:Harga .\n",
        "\n",
        "ex:SoundSquare gr:offers ex:Headphone ."
      ],
      "execution_count": 65,
      "outputs": [
        {
          "output_type": "display_data",
          "data": {
            "text/plain": [
              "<graphviz.dot.Digraph at 0x7f965dc8cb50>"
            ],
            "image/svg+xml": "<?xml version=\"1.0\" encoding=\"UTF-8\" standalone=\"no\"?>\n<!DOCTYPE svg PUBLIC \"-//W3C//DTD SVG 1.1//EN\"\n \"http://www.w3.org/Graphics/SVG/1.1/DTD/svg11.dtd\">\n<!-- Generated by graphviz version 2.40.1 (20161225.0304)\n -->\n<!-- Title: %3 Pages: 1 -->\n<svg width=\"1063pt\" height=\"305pt\"\n viewBox=\"0.00 0.00 1062.64 305.00\" xmlns=\"http://www.w3.org/2000/svg\" xmlns:xlink=\"http://www.w3.org/1999/xlink\">\n<g id=\"graph0\" class=\"graph\" transform=\"scale(1 1) rotate(0) translate(4 301)\">\n<title>%3</title>\n<polygon fill=\"#ffffff\" stroke=\"transparent\" points=\"-4,4 -4,-301 1058.6407,-301 1058.6407,4 -4,4\"/>\n<!-- 0 -->\n<g id=\"node1\" class=\"node\">\n<title>0</title>\n<ellipse fill=\"none\" stroke=\"#000000\" cx=\"796\" cy=\"-105\" rx=\"53.8905\" ry=\"18\"/>\n<text text-anchor=\"middle\" x=\"796\" y=\"-101.3\" font-family=\"Times,serif\" font-size=\"14.00\" fill=\"#000000\">gr:Location</text>\n</g>\n<!-- 1 -->\n<g id=\"node2\" class=\"node\">\n<title>1</title>\n<ellipse fill=\"none\" stroke=\"#000000\" cx=\"413\" cy=\"-18\" rx=\"112.3801\" ry=\"18\"/>\n<text text-anchor=\"middle\" x=\"413\" y=\"-14.3\" font-family=\"Times,serif\" font-size=\"14.00\" fill=\"#000000\">dbpedia:Indonesian_rupiah</text>\n</g>\n<!-- 2 -->\n<g id=\"node3\" class=\"node\">\n<title>2</title>\n<ellipse fill=\"none\" stroke=\"#000000\" cx=\"600\" cy=\"-279\" rx=\"72.5877\" ry=\"18\"/>\n<text text-anchor=\"middle\" x=\"600\" y=\"-275.3\" font-family=\"Times,serif\" font-size=\"14.00\" fill=\"#000000\">ex:SoundSquare</text>\n</g>\n<!-- 7 -->\n<g id=\"node8\" class=\"node\">\n<title>7</title>\n<ellipse fill=\"none\" stroke=\"#000000\" cx=\"440\" cy=\"-192\" rx=\"76.8869\" ry=\"18\"/>\n<text text-anchor=\"middle\" x=\"440\" y=\"-188.3\" font-family=\"Times,serif\" font-size=\"14.00\" fill=\"#000000\">gr:BusinessEntity</text>\n</g>\n<!-- 2&#45;&gt;7 -->\n<g id=\"edge3\" class=\"edge\">\n<title>2&#45;&gt;7</title>\n<path fill=\"none\" stroke=\"#000000\" d=\"M569.5286,-262.4312C544.0315,-248.5671 507.4682,-228.6859 479.6864,-213.5795\"/>\n<polygon fill=\"#000000\" stroke=\"#000000\" points=\"481.0872,-210.3573 470.63,-208.6551 477.7433,-216.5069 481.0872,-210.3573\"/>\n<text text-anchor=\"middle\" x=\"553\" y=\"-231.8\" font-family=\"Times,serif\" font-size=\"14.00\" fill=\"#000000\">rdf:type</text>\n</g>\n<!-- 8 -->\n<g id=\"node9\" class=\"node\">\n<title>8</title>\n<ellipse fill=\"none\" stroke=\"#000000\" cx=\"600\" cy=\"-192\" rx=\"64.9885\" ry=\"18\"/>\n<text text-anchor=\"middle\" x=\"600\" y=\"-188.3\" font-family=\"Times,serif\" font-size=\"14.00\" fill=\"#000000\">ex:Headphone</text>\n</g>\n<!-- 2&#45;&gt;8 -->\n<g id=\"edge8\" class=\"edge\">\n<title>2&#45;&gt;8</title>\n<path fill=\"none\" stroke=\"#000000\" d=\"M600,-260.9735C600,-249.1918 600,-233.5607 600,-220.1581\"/>\n<polygon fill=\"#000000\" stroke=\"#000000\" points=\"603.5001,-220.0033 600,-210.0034 596.5001,-220.0034 603.5001,-220.0033\"/>\n<text text-anchor=\"middle\" x=\"624.5\" y=\"-231.8\" font-family=\"Times,serif\" font-size=\"14.00\" fill=\"#000000\">gr:offers</text>\n</g>\n<!-- 10 -->\n<g id=\"node11\" class=\"node\">\n<title>10</title>\n<ellipse fill=\"none\" stroke=\"#000000\" cx=\"791\" cy=\"-192\" rx=\"68.4888\" ry=\"18\"/>\n<text text-anchor=\"middle\" x=\"791\" y=\"-188.3\" font-family=\"Times,serif\" font-size=\"14.00\" fill=\"#000000\">dbpedia:Jakarta</text>\n</g>\n<!-- 2&#45;&gt;10 -->\n<g id=\"edge1\" class=\"edge\">\n<title>2&#45;&gt;10</title>\n<path fill=\"none\" stroke=\"#000000\" d=\"M635.0323,-263.0429C666.6317,-248.6494 713.2355,-227.4215 747.2687,-211.9195\"/>\n<polygon fill=\"#000000\" stroke=\"#000000\" points=\"748.862,-215.0398 756.5116,-207.7094 745.9603,-208.6695 748.862,-215.0398\"/>\n<text text-anchor=\"middle\" x=\"753\" y=\"-231.8\" font-family=\"Times,serif\" font-size=\"14.00\" fill=\"#000000\">schema:location</text>\n</g>\n<!-- 3 -->\n<g id=\"node4\" class=\"node\">\n<title>3</title>\n<polygon fill=\"none\" stroke=\"#000000\" points=\"494,-123 0,-123 0,-87 494,-87 494,-123\"/>\n<text text-anchor=\"middle\" x=\"247\" y=\"-101.3\" font-family=\"Times,serif\" font-size=\"14.00\" fill=\"#000000\">&quot;TaffSTUDIO Mikrofon Kondenser Studio dengan Shockproof Mount &#45; BM&#45;800&quot;</text>\n</g>\n<!-- 4 -->\n<g id=\"node5\" class=\"node\">\n<title>4</title>\n<ellipse fill=\"none\" stroke=\"#000000\" cx=\"565\" cy=\"-105\" rx=\"52.7911\" ry=\"18\"/>\n<text text-anchor=\"middle\" x=\"565\" y=\"-101.3\" font-family=\"Times,serif\" font-size=\"14.00\" fill=\"#000000\">gr:Offering</text>\n</g>\n<!-- 5 -->\n<g id=\"node6\" class=\"node\">\n<title>5</title>\n<polygon fill=\"none\" stroke=\"#000000\" points=\"666.5,-36 543.5,-36 543.5,0 666.5,0 666.5,-36\"/>\n<text text-anchor=\"middle\" x=\"605\" y=\"-14.3\" font-family=\"Times,serif\" font-size=\"14.00\" fill=\"#000000\">&quot;IDR&quot;^^xsd:string</text>\n</g>\n<!-- 6 -->\n<g id=\"node7\" class=\"node\">\n<title>6</title>\n<polygon fill=\"none\" stroke=\"#000000\" points=\"827.5,-36 684.5,-36 684.5,0 827.5,0 827.5,-36\"/>\n<text text-anchor=\"middle\" x=\"756\" y=\"-14.3\" font-family=\"Times,serif\" font-size=\"14.00\" fill=\"#000000\">&quot;83200&quot;^^xsd:integer</text>\n</g>\n<!-- 8&#45;&gt;3 -->\n<g id=\"edge4\" class=\"edge\">\n<title>8&#45;&gt;3</title>\n<path fill=\"none\" stroke=\"#000000\" d=\"M551.2875,-179.9944C494.3224,-165.9548 399.08,-142.4815 330.3066,-125.5317\"/>\n<polygon fill=\"#000000\" stroke=\"#000000\" points=\"330.9065,-122.0748 320.3595,-123.0801 329.2314,-128.8715 330.9065,-122.0748\"/>\n<text text-anchor=\"middle\" x=\"468.5\" y=\"-144.8\" font-family=\"Times,serif\" font-size=\"14.00\" fill=\"#000000\">gr:name</text>\n</g>\n<!-- 8&#45;&gt;4 -->\n<g id=\"edge5\" class=\"edge\">\n<title>8&#45;&gt;4</title>\n<path fill=\"none\" stroke=\"#000000\" d=\"M579.6874,-174.7509C574.6277,-169.3092 569.8406,-162.8992 567,-156 564.0777,-148.9022 562.9041,-140.7684 562.6303,-133.1124\"/>\n<polygon fill=\"#000000\" stroke=\"#000000\" points=\"566.13,-133.1469 562.7351,-123.1107 559.1304,-133.0735 566.13,-133.1469\"/>\n<text text-anchor=\"middle\" x=\"590\" y=\"-144.8\" font-family=\"Times,serif\" font-size=\"14.00\" fill=\"#000000\">rdf:type</text>\n</g>\n<!-- 11 -->\n<g id=\"node12\" class=\"node\">\n<title>11</title>\n<ellipse fill=\"none\" stroke=\"#000000\" cx=\"680\" cy=\"-105\" rx=\"44.393\" ry=\"18\"/>\n<text text-anchor=\"middle\" x=\"680\" y=\"-101.3\" font-family=\"Times,serif\" font-size=\"14.00\" fill=\"#000000\">ex:Harga</text>\n</g>\n<!-- 8&#45;&gt;11 -->\n<g id=\"edge7\" class=\"edge\">\n<title>8&#45;&gt;11</title>\n<path fill=\"none\" stroke=\"#000000\" d=\"M616.1892,-174.3943C628.0542,-161.491 644.3139,-143.8086 657.4504,-129.5227\"/>\n<polygon fill=\"#000000\" stroke=\"#000000\" points=\"660.1869,-131.7176 664.3793,-121.9875 655.0342,-126.9794 660.1869,-131.7176\"/>\n<text text-anchor=\"middle\" x=\"714\" y=\"-144.8\" font-family=\"Times,serif\" font-size=\"14.00\" fill=\"#000000\">gr:hasPriceSpecification</text>\n</g>\n<!-- 9 -->\n<g id=\"node10\" class=\"node\">\n<title>9</title>\n<ellipse fill=\"none\" stroke=\"#000000\" cx=\"950\" cy=\"-18\" rx=\"104.7816\" ry=\"18\"/>\n<text text-anchor=\"middle\" x=\"950\" y=\"-14.3\" font-family=\"Times,serif\" font-size=\"14.00\" fill=\"#000000\">gr:UnitPriceSpecification</text>\n</g>\n<!-- 10&#45;&gt;0 -->\n<g id=\"edge9\" class=\"edge\">\n<title>10&#45;&gt;0</title>\n<path fill=\"none\" stroke=\"#000000\" d=\"M792.036,-173.9735C792.7131,-162.1918 793.6115,-146.5607 794.3817,-133.1581\"/>\n<polygon fill=\"#000000\" stroke=\"#000000\" points=\"797.8857,-133.1877 794.9653,-123.0034 790.8972,-132.786 797.8857,-133.1877\"/>\n<text text-anchor=\"middle\" x=\"817\" y=\"-144.8\" font-family=\"Times,serif\" font-size=\"14.00\" fill=\"#000000\">rdf:type</text>\n</g>\n<!-- 11&#45;&gt;1 -->\n<g id=\"edge11\" class=\"edge\">\n<title>11&#45;&gt;1</title>\n<path fill=\"none\" stroke=\"#000000\" d=\"M646.4555,-93.2624C640.0205,-91.1087 633.319,-88.9327 627,-87 597.9249,-78.107 590.0552,-77.9576 561,-69 529.9855,-59.4383 495.7006,-47.6994 467.9455,-37.8952\"/>\n<polygon fill=\"#000000\" stroke=\"#000000\" points=\"469.0114,-34.5597 458.4166,-34.5148 466.6709,-41.1568 469.0114,-34.5597\"/>\n<text text-anchor=\"middle\" x=\"596\" y=\"-57.8\" font-family=\"Times,serif\" font-size=\"14.00\" fill=\"#000000\">rdfs:seeAlso</text>\n</g>\n<!-- 11&#45;&gt;5 -->\n<g id=\"edge2\" class=\"edge\">\n<title>11&#45;&gt;5</title>\n<path fill=\"none\" stroke=\"#000000\" d=\"M663.4593,-88.045C657.8162,-82.1147 651.5361,-75.3506 646,-69 639.1297,-61.1189 631.9003,-52.3131 625.458,-44.266\"/>\n<polygon fill=\"#000000\" stroke=\"#000000\" points=\"628.0351,-41.883 619.0773,-36.2253 622.5518,-46.2343 628.0351,-41.883\"/>\n<text text-anchor=\"middle\" x=\"690\" y=\"-57.8\" font-family=\"Times,serif\" font-size=\"14.00\" fill=\"#000000\">gr:hasCurrency</text>\n</g>\n<!-- 11&#45;&gt;6 -->\n<g id=\"edge6\" class=\"edge\">\n<title>11&#45;&gt;6</title>\n<path fill=\"none\" stroke=\"#000000\" d=\"M707.6797,-90.8284C716.9662,-85.0399 726.7843,-77.6537 734,-69 739.6195,-62.2605 744.0238,-53.8681 747.3667,-45.8495\"/>\n<polygon fill=\"#000000\" stroke=\"#000000\" points=\"750.6801,-46.9821 750.9283,-36.3902 744.1291,-44.5155 750.6801,-46.9821\"/>\n<text text-anchor=\"middle\" x=\"804.5\" y=\"-57.8\" font-family=\"Times,serif\" font-size=\"14.00\" fill=\"#000000\">gr:hasCurrencyValue</text>\n</g>\n<!-- 11&#45;&gt;9 -->\n<g id=\"edge10\" class=\"edge\">\n<title>11&#45;&gt;9</title>\n<path fill=\"none\" stroke=\"#000000\" d=\"M712.7888,-92.7521C719.4119,-90.5944 726.376,-88.5474 733,-87 792.373,-73.1299 811.6574,-89.721 869,-69 886.7312,-62.5927 904.6552,-51.8479 919.1185,-41.8685\"/>\n<polygon fill=\"#000000\" stroke=\"#000000\" points=\"921.5272,-44.4502 927.6441,-35.7995 917.4676,-38.7475 921.5272,-44.4502\"/>\n<text text-anchor=\"middle\" x=\"922\" y=\"-57.8\" font-family=\"Times,serif\" font-size=\"14.00\" fill=\"#000000\">rdf:type</text>\n</g>\n</g>\n</svg>\n"
          },
          "metadata": {}
        }
      ]
    },
    {
      "cell_type": "code",
      "metadata": {
        "colab": {
          "base_uri": "https://localhost:8080/",
          "height": 428
        },
        "id": "gdET-KXdpIzz",
        "outputId": "4bd48b6e-c79a-4cdd-bc21-60a420d9e01e"
      },
      "source": [
        "%%rdf turtle\n",
        "# Data 3\n",
        "\n",
        "## Namespace\n",
        "@prefix rdfs: <http://www.w3.org/2000/01/rdf-schema#> .\n",
        "@prefix rdf: <http://www.w3.org/1999/02/22-rdf-syntax-ns#> .\n",
        "@prefix xsd: <http://www.w3.org/2001/XMLSchema#> .\n",
        "@prefix dbpedia: <https://dbpedia.org/resource/> .\n",
        "@prefix ex: <http://example.com/> .\n",
        "@prefix gr: <http://www.heppnetz.de/ontologies/goodrelations/v1#> .\n",
        "@prefix schema: <https://schema.org/> .\n",
        "@prefix foaf: <http://xmlns.com/foaf/0.1/> .\n",
        "\n",
        "## Class\n",
        "\n",
        "## Properties\n",
        "\n",
        "## Data 1\n",
        "ex:Computindo a gr:BusinessEntity .\n",
        "dbpedia:Jakarta a gr:Location .\n",
        "ex:Computindo schema:location dbpedia:Jakarta .\n",
        "\n",
        "ex:Harga a gr:UnitPriceSpecification .\n",
        "ex:Harga gr:hasCurrency \"IDR\"^^xsd:string .\n",
        "ex:Harga gr:hasCurrencyValue \"459100\"^^xsd:integer .\n",
        "ex:Harga rdfs:seeAlso dbpedia:Indonesian_rupiah .\n",
        "\n",
        "ex:Headphone a gr:Offering .\n",
        "ex:Headphone gr:name \"Zjiang Printer Resep Thermal Bluetooth - ZJ-5802DD\" .\n",
        "ex:Headphone gr:hasPriceSpecification ex:Harga .\n",
        "\n",
        "ex:Computindo gr:offers ex:Headphone ."
      ],
      "execution_count": 66,
      "outputs": [
        {
          "output_type": "display_data",
          "data": {
            "text/plain": [
              "<graphviz.dot.Digraph at 0x7f965dc2b750>"
            ],
            "image/svg+xml": "<?xml version=\"1.0\" encoding=\"UTF-8\" standalone=\"no\"?>\n<!DOCTYPE svg PUBLIC \"-//W3C//DTD SVG 1.1//EN\"\n \"http://www.w3.org/Graphics/SVG/1.1/DTD/svg11.dtd\">\n<!-- Generated by graphviz version 2.40.1 (20161225.0304)\n -->\n<!-- Title: %3 Pages: 1 -->\n<svg width=\"901pt\" height=\"305pt\"\n viewBox=\"0.00 0.00 901.29 305.00\" xmlns=\"http://www.w3.org/2000/svg\" xmlns:xlink=\"http://www.w3.org/1999/xlink\">\n<g id=\"graph0\" class=\"graph\" transform=\"scale(1 1) rotate(0) translate(4 301)\">\n<title>%3</title>\n<polygon fill=\"#ffffff\" stroke=\"transparent\" points=\"-4,4 -4,-301 897.286,-301 897.286,4 -4,4\"/>\n<!-- 0 -->\n<g id=\"node1\" class=\"node\">\n<title>0</title>\n<ellipse fill=\"none\" stroke=\"#000000\" cx=\"642.6453\" cy=\"-105\" rx=\"53.8905\" ry=\"18\"/>\n<text text-anchor=\"middle\" x=\"642.6453\" y=\"-101.3\" font-family=\"Times,serif\" font-size=\"14.00\" fill=\"#000000\">gr:Location</text>\n</g>\n<!-- 1 -->\n<g id=\"node2\" class=\"node\">\n<title>1</title>\n<ellipse fill=\"none\" stroke=\"#000000\" cx=\"244.6453\" cy=\"-18\" rx=\"112.3801\" ry=\"18\"/>\n<text text-anchor=\"middle\" x=\"244.6453\" y=\"-14.3\" font-family=\"Times,serif\" font-size=\"14.00\" fill=\"#000000\">dbpedia:Indonesian_rupiah</text>\n</g>\n<!-- 2 -->\n<g id=\"node3\" class=\"node\">\n<title>2</title>\n<polygon fill=\"none\" stroke=\"#000000\" points=\"524.6453,-36 374.6453,-36 374.6453,0 524.6453,0 524.6453,-36\"/>\n<text text-anchor=\"middle\" x=\"449.6453\" y=\"-14.3\" font-family=\"Times,serif\" font-size=\"14.00\" fill=\"#000000\">&quot;459100&quot;^^xsd:integer</text>\n</g>\n<!-- 3 -->\n<g id=\"node4\" class=\"node\">\n<title>3</title>\n<ellipse fill=\"none\" stroke=\"#000000\" cx=\"470.6453\" cy=\"-279\" rx=\"69.5877\" ry=\"18\"/>\n<text text-anchor=\"middle\" x=\"470.6453\" y=\"-275.3\" font-family=\"Times,serif\" font-size=\"14.00\" fill=\"#000000\">ex:Computindo</text>\n</g>\n<!-- 5 -->\n<g id=\"node6\" class=\"node\">\n<title>5</title>\n<ellipse fill=\"none\" stroke=\"#000000\" cx=\"297.6453\" cy=\"-192\" rx=\"64.9885\" ry=\"18\"/>\n<text text-anchor=\"middle\" x=\"297.6453\" y=\"-188.3\" font-family=\"Times,serif\" font-size=\"14.00\" fill=\"#000000\">ex:Headphone</text>\n</g>\n<!-- 3&#45;&gt;5 -->\n<g id=\"edge5\" class=\"edge\">\n<title>3&#45;&gt;5</title>\n<path fill=\"none\" stroke=\"#000000\" d=\"M438.5108,-262.8399C410.1733,-248.5892 368.745,-227.7553 338.1464,-212.3676\"/>\n<polygon fill=\"#000000\" stroke=\"#000000\" points=\"339.5309,-209.1462 329.0245,-207.7803 336.3859,-215.4 339.5309,-209.1462\"/>\n<text text-anchor=\"middle\" x=\"419.1453\" y=\"-231.8\" font-family=\"Times,serif\" font-size=\"14.00\" fill=\"#000000\">gr:offers</text>\n</g>\n<!-- 7 -->\n<g id=\"node8\" class=\"node\">\n<title>7</title>\n<ellipse fill=\"none\" stroke=\"#000000\" cx=\"470.6453\" cy=\"-192\" rx=\"76.8869\" ry=\"18\"/>\n<text text-anchor=\"middle\" x=\"470.6453\" y=\"-188.3\" font-family=\"Times,serif\" font-size=\"14.00\" fill=\"#000000\">gr:BusinessEntity</text>\n</g>\n<!-- 3&#45;&gt;7 -->\n<g id=\"edge4\" class=\"edge\">\n<title>3&#45;&gt;7</title>\n<path fill=\"none\" stroke=\"#000000\" d=\"M470.6453,-260.9735C470.6453,-249.1918 470.6453,-233.5607 470.6453,-220.1581\"/>\n<polygon fill=\"#000000\" stroke=\"#000000\" points=\"474.1454,-220.0033 470.6453,-210.0034 467.1454,-220.0034 474.1454,-220.0033\"/>\n<text text-anchor=\"middle\" x=\"493.6453\" y=\"-231.8\" font-family=\"Times,serif\" font-size=\"14.00\" fill=\"#000000\">rdf:type</text>\n</g>\n<!-- 10 -->\n<g id=\"node11\" class=\"node\">\n<title>10</title>\n<ellipse fill=\"none\" stroke=\"#000000\" cx=\"639.6453\" cy=\"-192\" rx=\"68.4888\" ry=\"18\"/>\n<text text-anchor=\"middle\" x=\"639.6453\" y=\"-188.3\" font-family=\"Times,serif\" font-size=\"14.00\" fill=\"#000000\">dbpedia:Jakarta</text>\n</g>\n<!-- 3&#45;&gt;10 -->\n<g id=\"edge7\" class=\"edge\">\n<title>3&#45;&gt;10</title>\n<path fill=\"none\" stroke=\"#000000\" d=\"M502.0369,-262.8399C529.5461,-248.6783 569.6842,-228.0155 599.519,-212.6567\"/>\n<polygon fill=\"#000000\" stroke=\"#000000\" points=\"601.1328,-215.7626 608.4219,-208.0736 597.9289,-209.5388 601.1328,-215.7626\"/>\n<text text-anchor=\"middle\" x=\"611.6453\" y=\"-231.8\" font-family=\"Times,serif\" font-size=\"14.00\" fill=\"#000000\">schema:location</text>\n</g>\n<!-- 4 -->\n<g id=\"node5\" class=\"node\">\n<title>4</title>\n<ellipse fill=\"none\" stroke=\"#000000\" cx=\"52.6453\" cy=\"-105\" rx=\"52.7911\" ry=\"18\"/>\n<text text-anchor=\"middle\" x=\"52.6453\" y=\"-101.3\" font-family=\"Times,serif\" font-size=\"14.00\" fill=\"#000000\">gr:Offering</text>\n</g>\n<!-- 5&#45;&gt;4 -->\n<g id=\"edge6\" class=\"edge\">\n<title>5&#45;&gt;4</title>\n<path fill=\"none\" stroke=\"#000000\" d=\"M257.4629,-177.7311C213.956,-162.2817 144.6658,-137.6767 98.9166,-121.431\"/>\n<polygon fill=\"#000000\" stroke=\"#000000\" points=\"99.8404,-118.045 89.2457,-117.9969 97.498,-124.6415 99.8404,-118.045\"/>\n<text text-anchor=\"middle\" x=\"213.6453\" y=\"-144.8\" font-family=\"Times,serif\" font-size=\"14.00\" fill=\"#000000\">rdf:type</text>\n</g>\n<!-- 9 -->\n<g id=\"node10\" class=\"node\">\n<title>9</title>\n<polygon fill=\"none\" stroke=\"#000000\" points=\"464.1453,-123 123.1453,-123 123.1453,-87 464.1453,-87 464.1453,-123\"/>\n<text text-anchor=\"middle\" x=\"293.6453\" y=\"-101.3\" font-family=\"Times,serif\" font-size=\"14.00\" fill=\"#000000\">&quot;Zjiang Printer Resep Thermal Bluetooth &#45; ZJ&#45;5802DD&quot;</text>\n</g>\n<!-- 5&#45;&gt;9 -->\n<g id=\"edge10\" class=\"edge\">\n<title>5&#45;&gt;9</title>\n<path fill=\"none\" stroke=\"#000000\" d=\"M296.8165,-173.9735C296.2748,-162.1918 295.5562,-146.5607 294.94,-133.1581\"/>\n<polygon fill=\"#000000\" stroke=\"#000000\" points=\"298.4288,-132.832 294.4731,-123.0034 291.4361,-133.1536 298.4288,-132.832\"/>\n<text text-anchor=\"middle\" x=\"320.1453\" y=\"-144.8\" font-family=\"Times,serif\" font-size=\"14.00\" fill=\"#000000\">gr:name</text>\n</g>\n<!-- 11 -->\n<g id=\"node12\" class=\"node\">\n<title>11</title>\n<ellipse fill=\"none\" stroke=\"#000000\" cx=\"526.6453\" cy=\"-105\" rx=\"44.393\" ry=\"18\"/>\n<text text-anchor=\"middle\" x=\"526.6453\" y=\"-101.3\" font-family=\"Times,serif\" font-size=\"14.00\" fill=\"#000000\">ex:Harga</text>\n</g>\n<!-- 5&#45;&gt;11 -->\n<g id=\"edge9\" class=\"edge\">\n<title>5&#45;&gt;11</title>\n<path fill=\"none\" stroke=\"#000000\" d=\"M335.9748,-177.4382C377.082,-161.821 442.1614,-137.0965 484.6356,-120.96\"/>\n<polygon fill=\"#000000\" stroke=\"#000000\" points=\"486.0226,-124.1772 494.1277,-117.3538 483.5366,-117.6335 486.0226,-124.1772\"/>\n<text text-anchor=\"middle\" x=\"495.6453\" y=\"-144.8\" font-family=\"Times,serif\" font-size=\"14.00\" fill=\"#000000\">gr:hasPriceSpecification</text>\n</g>\n<!-- 6 -->\n<g id=\"node7\" class=\"node\">\n<title>6</title>\n<polygon fill=\"none\" stroke=\"#000000\" points=\"666.1453,-36 543.1453,-36 543.1453,0 666.1453,0 666.1453,-36\"/>\n<text text-anchor=\"middle\" x=\"604.6453\" y=\"-14.3\" font-family=\"Times,serif\" font-size=\"14.00\" fill=\"#000000\">&quot;IDR&quot;^^xsd:string</text>\n</g>\n<!-- 8 -->\n<g id=\"node9\" class=\"node\">\n<title>8</title>\n<ellipse fill=\"none\" stroke=\"#000000\" cx=\"788.6453\" cy=\"-18\" rx=\"104.7816\" ry=\"18\"/>\n<text text-anchor=\"middle\" x=\"788.6453\" y=\"-14.3\" font-family=\"Times,serif\" font-size=\"14.00\" fill=\"#000000\">gr:UnitPriceSpecification</text>\n</g>\n<!-- 10&#45;&gt;0 -->\n<g id=\"edge1\" class=\"edge\">\n<title>10&#45;&gt;0</title>\n<path fill=\"none\" stroke=\"#000000\" d=\"M640.2669,-173.9735C640.6732,-162.1918 641.2122,-146.5607 641.6744,-133.1581\"/>\n<polygon fill=\"#000000\" stroke=\"#000000\" points=\"645.1777,-133.1181 642.0245,-123.0034 638.1819,-132.8768 645.1777,-133.1181\"/>\n<text text-anchor=\"middle\" x=\"664.6453\" y=\"-144.8\" font-family=\"Times,serif\" font-size=\"14.00\" fill=\"#000000\">rdf:type</text>\n</g>\n<!-- 11&#45;&gt;1 -->\n<g id=\"edge8\" class=\"edge\">\n<title>11&#45;&gt;1</title>\n<path fill=\"none\" stroke=\"#000000\" d=\"M493.1437,-93.0911C486.4034,-90.9055 479.3348,-88.7615 472.6453,-87 432.3547,-76.3904 420.7327,-80.3535 380.6453,-69 351.3864,-60.7133 319.5142,-48.9166 293.9835,-38.7557\"/>\n<polygon fill=\"#000000\" stroke=\"#000000\" points=\"295.1115,-35.4369 284.5278,-34.9522 292.4992,-41.9313 295.1115,-35.4369\"/>\n<text text-anchor=\"middle\" x=\"415.6453\" y=\"-57.8\" font-family=\"Times,serif\" font-size=\"14.00\" fill=\"#000000\">rdfs:seeAlso</text>\n</g>\n<!-- 11&#45;&gt;2 -->\n<g id=\"edge11\" class=\"edge\">\n<title>11&#45;&gt;2</title>\n<path fill=\"none\" stroke=\"#000000\" d=\"M493.3394,-93.145C481.7544,-87.4898 469.6657,-79.5932 461.6453,-69 456.6823,-62.445 453.728,-54.1607 451.9827,-46.1856\"/>\n<polygon fill=\"#000000\" stroke=\"#000000\" points=\"455.3926,-45.3512 450.3174,-36.051 448.4852,-46.4862 455.3926,-45.3512\"/>\n<text text-anchor=\"middle\" x=\"522.1453\" y=\"-57.8\" font-family=\"Times,serif\" font-size=\"14.00\" fill=\"#000000\">gr:hasCurrencyValue</text>\n</g>\n<!-- 11&#45;&gt;6 -->\n<g id=\"edge2\" class=\"edge\">\n<title>11&#45;&gt;6</title>\n<path fill=\"none\" stroke=\"#000000\" d=\"M555.0698,-91.1805C564.7859,-85.3846 575.0952,-77.903 582.6453,-69 588.3208,-62.3075 592.7413,-53.9287 596.0818,-45.9081\"/>\n<polygon fill=\"#000000\" stroke=\"#000000\" points=\"599.3983,-47.0321 599.6327,-36.4398 592.844,-44.574 599.3983,-47.0321\"/>\n<text text-anchor=\"middle\" x=\"636.6453\" y=\"-57.8\" font-family=\"Times,serif\" font-size=\"14.00\" fill=\"#000000\">gr:hasCurrency</text>\n</g>\n<!-- 11&#45;&gt;8 -->\n<g id=\"edge3\" class=\"edge\">\n<title>11&#45;&gt;8</title>\n<path fill=\"none\" stroke=\"#000000\" d=\"M559.4828,-92.9519C566.1019,-90.7778 573.0521,-88.6736 579.6453,-87 625.5373,-75.3508 639.5962,-83.5723 684.6453,-69 707.1721,-61.7132 730.9756,-50.3418 750.1168,-40.1842\"/>\n<polygon fill=\"#000000\" stroke=\"#000000\" points=\"751.9822,-43.1545 759.1129,-35.3184 748.652,-36.9974 751.9822,-43.1545\"/>\n<text text-anchor=\"middle\" x=\"743.6453\" y=\"-57.8\" font-family=\"Times,serif\" font-size=\"14.00\" fill=\"#000000\">rdf:type</text>\n</g>\n</g>\n</svg>\n"
          },
          "metadata": {}
        }
      ]
    },
    {
      "cell_type": "markdown",
      "metadata": {
        "id": "mYVSLWksB1yT"
      },
      "source": [
        "##Daftar Pustaka:\n",
        "\n",
        "1.   Rakhmawati, N. A. (2015). Semantic Web dan Linked Data. Yogyakarta, Indonesia: SiBuku.\n",
        "2. Rochim Farul Noviyan, Hasna Zakiyyah Harsari, Reyhan Venyutzky, & Nur Aini Rakhmawati. (2021). rochimfn/tekweb-tugas-pertemuan4: Release v0.1 (v0.1) [Data set]. Zenodo. https://doi.org/10.5281/zenodo.5520879\n",
        "\n",
        "\n",
        "\n",
        "\n",
        "\n",
        "\n"
      ]
    }
  ]
}